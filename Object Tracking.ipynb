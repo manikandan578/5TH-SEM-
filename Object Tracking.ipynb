{
 "cells": [
  {
   "cell_type": "code",
   "execution_count": 1,
   "id": "5875997e",
   "metadata": {},
   "outputs": [],
   "source": [
    "import numpy as np\n",
    "import cv2"
   ]
  },
  {
   "cell_type": "code",
   "execution_count": 2,
   "id": "fa446e8a",
   "metadata": {},
   "outputs": [],
   "source": [
    "vid = cv2.VideoCapture(\"C:\\\\Users\\\\aedpu\\\\Downloads\\\\object.mp4\")"
   ]
  },
  {
   "cell_type": "code",
   "execution_count": 3,
   "id": "88f4fe9f",
   "metadata": {},
   "outputs": [],
   "source": [
    "while(vid.isOpened()):\n",
    "    ret, frame = vid.read()\n",
    "    \n",
    "    cv2.imshow('video',frame)\n",
    "    if cv2.waitKey(50) & 0xFF == ord('q'):\n",
    "        break\n",
    "        \n",
    "vid.release()\n",
    "cv2.destroyAllWindows()"
   ]
  },
  {
   "cell_type": "code",
   "execution_count": 5,
   "id": "a78a8b56",
   "metadata": {},
   "outputs": [],
   "source": [
    "def drawbox(img , bbox):\n",
    "    x,y,w,h = int(bbox[0]),int(bbox[1]),int(bbox[2]),int(bbox[3])\n",
    "    cv2.rectangle(img,(x,y),(x+w,y+h),(0,255,10),2)\n",
    "    "
   ]
  },
  {
   "cell_type": "code",
   "execution_count": null,
   "id": "45fdd1b3",
   "metadata": {},
   "outputs": [],
   "source": [
    "tracker = cv2.TrackerCSRT_create()\n",
    "ret,frm = vid.read()\n",
    "box = cv2.selectROI(frm)"
   ]
  }
 ],
 "metadata": {
  "kernelspec": {
   "display_name": "Python 3 (ipykernel)",
   "language": "python",
   "name": "python3"
  },
  "language_info": {
   "codemirror_mode": {
    "name": "ipython",
    "version": 3
   },
   "file_extension": ".py",
   "mimetype": "text/x-python",
   "name": "python",
   "nbconvert_exporter": "python",
   "pygments_lexer": "ipython3",
   "version": "3.9.16"
  }
 },
 "nbformat": 4,
 "nbformat_minor": 5
}
