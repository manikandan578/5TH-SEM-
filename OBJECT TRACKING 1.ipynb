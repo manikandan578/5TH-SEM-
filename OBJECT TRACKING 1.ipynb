{
 "cells": [
  {
   "cell_type": "code",
   "execution_count": null,
   "id": "d343fcff",
   "metadata": {},
   "outputs": [],
   "source": [
    "pip install opencv-contrib-python"
   ]
  },
  {
   "cell_type": "code",
   "execution_count": null,
   "id": "664e82d3",
   "metadata": {},
   "outputs": [],
   "source": [
    "import numpy as np\n",
    "import cv2"
   ]
  },
  {
   "cell_type": "code",
   "execution_count": null,
   "id": "ab64d4e8",
   "metadata": {},
   "outputs": [],
   "source": [
    "vid = cv2.VideoCapture(0)"
   ]
  },
  {
   "cell_type": "code",
   "execution_count": null,
   "id": "6af207c1",
   "metadata": {},
   "outputs": [],
   "source": [
    "#bounding box\n",
    "def drawBox(img,bbox):\n",
    "    x,y,w,h = int(bbox[0]),int(bbox[1]),int(bbox[2]),int(bbox[3])\n",
    "    cv2.rectangle(img,(x,y),((x+w),(y+h)),(255,0,255),1)\n",
    "    "
   ]
  },
  {
   "cell_type": "code",
   "execution_count": null,
   "id": "a6fc6aba",
   "metadata": {},
   "outputs": [],
   "source": [
    "#tracking\n",
    "tracker = cv2.TrackerCSRT_create()\n",
    "sucess,img = vid.read()\n",
    "bbox = cv2.selectROI(\"PDS\",img,False)\n",
    "tracker.init(img,bbox)\n",
    "\n",
    "while True:\n",
    "    timer = cv2.getTickCount()\n",
    "    sucess,img = vid.read()\n",
    "    sucess,bbox = tracker.update(img)\n",
    "    \n",
    "    if sucess:\n",
    "        drawBox(img,bbox)\n",
    "    else:\n",
    "        cv2.putText(img,\"Lost\",(75,75),cv2.FONT_HERSHEY_SIMPLEX,0.5,(0,0,255),2)\n",
    "        \n",
    "    fps = cv2.getTickFrequency()/(cv2.getTickCount()-timer)\n",
    "    cv2.putText(img,str(int(fps)),(75,50),cv2.FONT_HERSHEY_COMPLEX,0.7,(0,0,255),2)\n",
    "    \n",
    "    cv2.imshow(\"Tracking\",img)\n",
    "    \n",
    "    if cv2.waitKey(1)&0xff==ord('q'):\n",
    "        break\n",
    "vid.release()\n",
    "cv2.destroyAllWindows()\n",
    "    "
   ]
  },
  {
   "cell_type": "code",
   "execution_count": null,
   "id": "4c04d1cc",
   "metadata": {},
   "outputs": [],
   "source": []
  },
  {
   "cell_type": "code",
   "execution_count": null,
   "id": "8148b6b9",
   "metadata": {},
   "outputs": [],
   "source": []
  }
 ],
 "metadata": {
  "kernelspec": {
   "display_name": "Python 3 (ipykernel)",
   "language": "python",
   "name": "python3"
  },
  "language_info": {
   "codemirror_mode": {
    "name": "ipython",
    "version": 3
   },
   "file_extension": ".py",
   "mimetype": "text/x-python",
   "name": "python",
   "nbconvert_exporter": "python",
   "pygments_lexer": "ipython3",
   "version": "3.12.7"
  }
 },
 "nbformat": 4,
 "nbformat_minor": 5
}
