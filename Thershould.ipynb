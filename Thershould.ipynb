{
 "cells": [
  {
   "cell_type": "code",
   "execution_count": 1,
   "id": "f844b5bc-ee1f-4e74-a8b2-8ea8f5c21263",
   "metadata": {},
   "outputs": [],
   "source": [
    "import cv2\n",
    "import numpy as np"
   ]
  },
  {
   "cell_type": "code",
   "execution_count": 2,
   "id": "6570e089-e4ed-4890-a200-a9606bb54c33",
   "metadata": {},
   "outputs": [],
   "source": [
    "img = cv2.imread(\"C:\\\\Users\\\\aedpu\\\\OneDrive\\\\Pictures\\\\sun.jpeg\")"
   ]
  },
  {
   "cell_type": "code",
   "execution_count": 3,
   "id": "8272db74-b64a-4797-9763-384377808821",
   "metadata": {},
   "outputs": [
    {
     "name": "stdout",
     "output_type": "stream",
     "text": [
      "(172, 292, 3)\n"
     ]
    }
   ],
   "source": [
    "shp=img.shape\n",
    "print(shp)"
   ]
  },
  {
   "cell_type": "code",
   "execution_count": 4,
   "id": "659af40f-efd2-4693-a8b9-8eddea6319ee",
   "metadata": {},
   "outputs": [],
   "source": [
    "img = cv2.resize(img,(500,300))"
   ]
  },
  {
   "cell_type": "code",
   "execution_count": 5,
   "id": "7674018e-f071-4e1a-b02c-5b20fc2c792d",
   "metadata": {},
   "outputs": [
    {
     "data": {
      "text/plain": [
       "(300, 500, 3)"
      ]
     },
     "execution_count": 5,
     "metadata": {},
     "output_type": "execute_result"
    }
   ],
   "source": [
    "img.shape"
   ]
  },
  {
   "cell_type": "code",
   "execution_count": 6,
   "id": "6880af0c-aed1-4ce8-be14-716428532b08",
   "metadata": {
    "scrolled": true
   },
   "outputs": [],
   "source": [
    "GREY=cv2.cvtColor(img,cv2.COLOR_BGR2GRAY)"
   ]
  },
  {
   "cell_type": "code",
   "execution_count": 7,
   "id": "c7e34a5d-509a-4ab3-b68a-6f05cbd3f5e3",
   "metadata": {},
   "outputs": [],
   "source": [
    "cv2.imshow(\"Original\",img)\n",
    "cv2.imshow(\"gray\",GREY)\n",
    "cv2.waitKey(0)\n",
    "cv2.destroyAllWindows()"
   ]
  },
  {
   "cell_type": "markdown",
   "id": "06e5900b-1686-418f-a47c-dbe1fb5284c9",
   "metadata": {},
   "source": [
    "binary  thresholding"
   ]
  },
  {
   "cell_type": "code",
   "execution_count": 8,
   "id": "c98947dc-db75-4523-8629-60c43120e66f",
   "metadata": {},
   "outputs": [],
   "source": [
    "ret,thresh1 = cv2.threshold(GREY, 200,255,cv2.THRESH_BINARY )"
   ]
  },
  {
   "cell_type": "markdown",
   "id": "5c6e4c8c-c1bf-49c2-b0cd-625a7e0c5b95",
   "metadata": {},
   "source": [
    "binary inverse thresholding"
   ]
  },
  {
   "cell_type": "code",
   "execution_count": 9,
   "id": "9d33d7c5-321b-4aaa-87c4-54aaea1b303c",
   "metadata": {},
   "outputs": [],
   "source": [
    "ret,thresh2 = cv2.threshold(GREY, 127,255,cv2.THRESH_BINARY_INV )"
   ]
  },
  {
   "cell_type": "markdown",
   "id": "ebdf6967-f300-4c49-bef2-5e6a414b3147",
   "metadata": {},
   "source": [
    "truncation  thresholding"
   ]
  },
  {
   "cell_type": "code",
   "execution_count": 10,
   "id": "79861b74-266d-4c7e-ba52-e4d693433370",
   "metadata": {},
   "outputs": [],
   "source": [
    "ret,thresh3 = cv2.threshold(GREY, 127,255,cv2.THRESH_TRUNC )"
   ]
  },
  {
   "cell_type": "markdown",
   "id": "080b90e3-d992-4ea5-8ba3-19b5c7273693",
   "metadata": {},
   "source": [
    "TO ZERO thresholding"
   ]
  },
  {
   "cell_type": "code",
   "execution_count": 11,
   "id": "cfb33432-2aea-47fa-93c2-0f87e1781ed9",
   "metadata": {},
   "outputs": [],
   "source": [
    "ret,thresh4 = cv2.threshold(GREY, 127,255,cv2.THRESH_TOZERO)"
   ]
  },
  {
   "cell_type": "markdown",
   "id": "4763acaf-3ee6-402c-aff5-ccba9b0dab63",
   "metadata": {},
   "source": [
    "TO ZERO inverse thresholding"
   ]
  },
  {
   "cell_type": "code",
   "execution_count": 12,
   "id": "b37fdbaa-199f-44c5-9045-6288baad4725",
   "metadata": {},
   "outputs": [],
   "source": [
    "ret,thresh5 = cv2.threshold(GREY, 127,255,cv2.THRESH_TOZERO_INV )"
   ]
  },
  {
   "cell_type": "markdown",
   "id": "7da7fcb3-a8cf-45f7-9fec-cff7ab44b2b0",
   "metadata": {},
   "source": [
    "DISPLAY RESULTS"
   ]
  },
  {
   "cell_type": "code",
   "execution_count": 13,
   "id": "92a5c57b-0851-4420-8181-82636fa539f4",
   "metadata": {},
   "outputs": [],
   "source": [
    "cv2.imshow(\"Original\",img)\n",
    "cv2.imshow(\"gray\",GREY)\n",
    "cv2.imshow(\"THRESH_BINARY\",thresh1)\n",
    "cv2.imshow(\"THRESH_BINARY_INV\",thresh2)\n",
    "cv2.imshow(\"THRESH_TRUNC\",thresh3)\n",
    "cv2.imshow(\"THRESH_TOZERO\",thresh4)\n",
    "cv2.imshow(\"THRESH_TOZERO_INV\",thresh5)\n",
    "cv2.waitKey(0)\n",
    "cv2.destroyAllWindows()"
   ]
  },
  {
   "cell_type": "markdown",
   "id": "4334ad3d-ce85-4d00-9eb7-948784a9f2e1",
   "metadata": {},
   "source": [
    "ADAPTIVE  Thresholding"
   ]
  },
  {
   "cell_type": "code",
   "execution_count": 14,
   "id": "94c8a113-32a2-4070-828e-1876479083d9",
   "metadata": {},
   "outputs": [],
   "source": [
    "img1 = cv2.medianBlur(GREY ,(5))"
   ]
  },
  {
   "cell_type": "markdown",
   "id": "464cdfa1-0e92-4e92-aaba-67285536b7cb",
   "metadata": {},
   "source": [
    "syntax"
   ]
  },
  {
   "cell_type": "code",
   "execution_count": null,
   "id": "35952181-6773-4656-9c9f-db2d825cfe0b",
   "metadata": {},
   "outputs": [],
   "source": []
  },
  {
   "cell_type": "code",
   "execution_count": 15,
   "id": "a178f731-76e7-4351-bd1d-623375571d77",
   "metadata": {},
   "outputs": [],
   "source": [
    "th  = cv2.adaptiveThreshold(img1,255,cv2.ADAPTIVE_THRESH_MEAN_C,cv2.THRESH_BINARY,11,2)"
   ]
  },
  {
   "cell_type": "code",
   "execution_count": 16,
   "id": "535433c2-a6d7-42c1-a6eb-e8df6046f015",
   "metadata": {},
   "outputs": [],
   "source": [
    "cv2.imshow(\"Blur img\",img1)\n",
    "cv2.imshow(\"MeanC\",th)\n",
    "cv2.waitKey(0)\n",
    "cv2.destroyAllWindows()"
   ]
  },
  {
   "cell_type": "code",
   "execution_count": 17,
   "id": "d27cea14-b049-4808-8517-9b1edf199bac",
   "metadata": {},
   "outputs": [],
   "source": [
    "th1 = cv2.adaptiveThreshold(img1,255,cv2.ADAPTIVE_THRESH_GAUSSIAN_C,cv2.THRESH_BINARY,11,2)"
   ]
  },
  {
   "cell_type": "code",
   "execution_count": 18,
   "id": "d75770fe-c396-428b-b54a-bef6367e5163",
   "metadata": {},
   "outputs": [],
   "source": [
    "cv2.imshow(\"Blur img\",img1)\n",
    "cv2.imshow(\"GAUSSIAN\",th1)\n",
    "cv2.waitKey(0)\n",
    "cv2.destroyAllWindows()"
   ]
  },
  {
   "cell_type": "code",
   "execution_count": null,
   "id": "db8f9d26-042f-4cfd-9c80-fd2ba72bbfe1",
   "metadata": {},
   "outputs": [],
   "source": []
  },
  {
   "cell_type": "code",
   "execution_count": null,
   "id": "3476b16d-7fc6-4f69-b724-c1b56a539b17",
   "metadata": {},
   "outputs": [],
   "source": []
  }
 ],
 "metadata": {
  "kernelspec": {
   "display_name": "Python 3 (ipykernel)",
   "language": "python",
   "name": "python3"
  },
  "language_info": {
   "codemirror_mode": {
    "name": "ipython",
    "version": 3
   },
   "file_extension": ".py",
   "mimetype": "text/x-python",
   "name": "python",
   "nbconvert_exporter": "python",
   "pygments_lexer": "ipython3",
   "version": "3.9.19"
  }
 },
 "nbformat": 4,
 "nbformat_minor": 5
}
