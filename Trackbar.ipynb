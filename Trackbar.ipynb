{
 "cells": [
  {
   "cell_type": "code",
   "execution_count": 1,
   "id": "bbc094f3-c921-4e5a-86bc-6122b49a2f1f",
   "metadata": {},
   "outputs": [],
   "source": [
    "import cv2\n",
    "import numpy as np"
   ]
  },
  {
   "cell_type": "markdown",
   "id": "e79a328b-f072-4f02-a583-3446b36fe47f",
   "metadata": {},
   "source": [
    "create trackbar"
   ]
  },
  {
   "cell_type": "code",
   "execution_count": 2,
   "id": "81dc4442-d6e0-45f0-91f8-224292ef926a",
   "metadata": {},
   "outputs": [],
   "source": [
    "def nothing(x):\n",
    "    print(x)"
   ]
  },
  {
   "cell_type": "code",
   "execution_count": 3,
   "id": "70a2fb1b-0ef2-455f-8121-a2f1fdc6dae1",
   "metadata": {},
   "outputs": [],
   "source": [
    "img = np.zeros((200,400,3),np.uint8)\n",
    "cv2.namedWindow(\"image\")\n",
    "cv2.createTrackbar(\"B\",\"image\",0,255,nothing)\n",
    "cv2.createTrackbar(\"G\",\"image\",0,255,nothing)\n",
    "cv2.createTrackbar(\"R\",\"image\",0,255,nothing)\n",
    "switch = \"0:OFF\\n 1:ON\" \n",
    "cv2.createTrackbar(switch,\"image\",0,1,nothing)\n",
    "while True :\n",
    "    cv2.imshow('image',img)\n",
    "    if cv2.waitKey(1) & 0xFF == 27:\n",
    "        break\n",
    "    b = cv2.getTrackbarPos(\"B\",\"image\")\n",
    "    g = cv2.getTrackbarPos(\"G\",\"image\")\n",
    "    r = cv2.getTrackbarPos(\"R\",\"image\")\n",
    "    s = cv2.getTrackbarPos(switch,\"image\")\n",
    "    if s == 0:\n",
    "        img[:] = 0\n",
    "    else:\n",
    "        img[:] = [b,g,r]\n",
    "\n",
    "\n",
    "cv2.destroyAllWindows()\n",
    "    \n"
   ]
  },
  {
   "cell_type": "code",
   "execution_count": 4,
   "id": "9b6e0778-d24c-4527-a685-1d49954b699c",
   "metadata": {},
   "outputs": [],
   "source": [
    "def update_image(x):\n",
    "\n",
    "    b = cv2.getTrackbarPos(\"B\",\"image\")\n",
    "    g = cv2.getTrackbarPos(\"G\",\"image\")\n",
    "    r = cv2.getTrackbarPos(\"R\",\"image\")\n",
    "    black_image = np.zeros_like(image)\n",
    "    black_image [:] = (b,g,r)\n",
    "    cv2.addWeighted(image ,1.0 ,black_image ,0.5 ,0 ,modified_image)\n",
    "    cv2.imshow(\"image\",modified_image)\n",
    "    \n",
    "image = cv2.imread(\"C:\\\\Users\\\\aedpu\\\\OneDrive\\\\Pictures\\\\dr.jpeg\")\n",
    "if image is None:\n",
    "    print(\"No image\")\n",
    "    exit()\n",
    "\n",
    "cv2.namedWindow(\"image\")\n",
    "cv2.createTrackbar(\"B\",\"image\",0,255,update_image)\n",
    "cv2.createTrackbar(\"G\",\"image\",0,255,update_image)\n",
    "cv2.createTrackbar(\"R\",\"image\",0,255,update_image)\n",
    "modified_image = image.copy()\n",
    "update_image(0)\n",
    "while True:\n",
    "    if cv2.waitKey(1) & 0xFF == 27:\n",
    "        break\n",
    "\n",
    "cv2.destroyAllWindows()\n"
   ]
  },
  {
   "cell_type": "code",
   "execution_count": null,
   "id": "6facced3-c1b9-4f8c-823f-6a1238df4326",
   "metadata": {},
   "outputs": [],
   "source": []
  },
  {
   "cell_type": "code",
   "execution_count": null,
   "id": "14aee6cf-dc12-4414-9c16-f7149c51564c",
   "metadata": {},
   "outputs": [],
   "source": []
  }
 ],
 "metadata": {
  "kernelspec": {
   "display_name": "Python 3 (ipykernel)",
   "language": "python",
   "name": "python3"
  },
  "language_info": {
   "codemirror_mode": {
    "name": "ipython",
    "version": 3
   },
   "file_extension": ".py",
   "mimetype": "text/x-python",
   "name": "python",
   "nbconvert_exporter": "python",
   "pygments_lexer": "ipython3",
   "version": "3.9.19"
  }
 },
 "nbformat": 4,
 "nbformat_minor": 5
}
