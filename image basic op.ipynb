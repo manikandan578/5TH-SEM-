{
 "cells": [
  {
   "cell_type": "markdown",
   "id": "7176a408",
   "metadata": {},
   "source": [
    "# importing libraries"
   ]
  },
  {
   "cell_type": "code",
   "execution_count": 1,
   "id": "70044a80",
   "metadata": {},
   "outputs": [],
   "source": [
    "import cv2\n",
    "import numpy as np"
   ]
  },
  {
   "cell_type": "markdown",
   "id": "d7a37e09",
   "metadata": {},
   "source": [
    "# Reading an image"
   ]
  },
  {
   "cell_type": "code",
   "execution_count": 2,
   "id": "67bef5bf",
   "metadata": {
    "scrolled": true
   },
   "outputs": [
    {
     "data": {
      "text/plain": [
       "array([[[32, 30, 36],\n",
       "        [32, 30, 36],\n",
       "        [32, 30, 36],\n",
       "        ...,\n",
       "        [18, 17, 19],\n",
       "        [18, 17, 19],\n",
       "        [18, 17, 19]],\n",
       "\n",
       "       [[32, 30, 36],\n",
       "        [32, 30, 36],\n",
       "        [32, 30, 36],\n",
       "        ...,\n",
       "        [18, 17, 19],\n",
       "        [18, 17, 19],\n",
       "        [18, 17, 19]],\n",
       "\n",
       "       [[32, 30, 36],\n",
       "        [32, 30, 36],\n",
       "        [32, 30, 36],\n",
       "        ...,\n",
       "        [18, 17, 19],\n",
       "        [18, 17, 19],\n",
       "        [18, 17, 19]],\n",
       "\n",
       "       ...,\n",
       "\n",
       "       [[ 0,  0,  0],\n",
       "        [ 0,  0,  0],\n",
       "        [ 1,  1,  1],\n",
       "        ...,\n",
       "        [ 0,  0,  0],\n",
       "        [22, 22, 22],\n",
       "        [ 0,  0,  0]],\n",
       "\n",
       "       [[ 0,  0,  0],\n",
       "        [ 8,  8,  8],\n",
       "        [ 9,  9,  9],\n",
       "        ...,\n",
       "        [ 0,  0,  0],\n",
       "        [ 0,  0,  0],\n",
       "        [ 8,  8,  8]],\n",
       "\n",
       "       [[ 0,  0,  0],\n",
       "        [ 0,  0,  0],\n",
       "        [ 0,  0,  0],\n",
       "        ...,\n",
       "        [ 0,  0,  0],\n",
       "        [ 0,  0,  0],\n",
       "        [ 0,  0,  0]]], dtype=uint8)"
      ]
     },
     "execution_count": 2,
     "metadata": {},
     "output_type": "execute_result"
    }
   ],
   "source": [
    "img = cv2.imread(\"C:\\\\Users\\\\aedpu\\\\OneDrive\\\\Pictures\\\\download (1).jpeg\")\n",
    "img"
   ]
  },
  {
   "cell_type": "markdown",
   "id": "ae4770e6",
   "metadata": {},
   "source": [
    "# Display the image"
   ]
  },
  {
   "cell_type": "code",
   "execution_count": 3,
   "id": "2e1a49c5",
   "metadata": {},
   "outputs": [],
   "source": [
    "cv2.imshow(\"Image\",img)\n",
    "cv2.waitKey(0)\n",
    "cv2.destroyAllWindows()"
   ]
  },
  {
   "cell_type": "code",
   "execution_count": 4,
   "id": "30c1c69c",
   "metadata": {},
   "outputs": [],
   "source": [
    "shp = img.shape"
   ]
  },
  {
   "cell_type": "code",
   "execution_count": 5,
   "id": "91603868",
   "metadata": {},
   "outputs": [
    {
     "data": {
      "text/plain": [
       "(233, 216, 3)"
      ]
     },
     "execution_count": 5,
     "metadata": {},
     "output_type": "execute_result"
    }
   ],
   "source": [
    "shp"
   ]
  },
  {
   "cell_type": "markdown",
   "id": "3776f301",
   "metadata": {},
   "source": [
    "# size of an img"
   ]
  },
  {
   "cell_type": "code",
   "execution_count": 6,
   "id": "9cd9b67e",
   "metadata": {},
   "outputs": [],
   "source": [
    "size = img.size"
   ]
  },
  {
   "cell_type": "code",
   "execution_count": 7,
   "id": "87426077",
   "metadata": {},
   "outputs": [
    {
     "data": {
      "text/plain": [
       "150984"
      ]
     },
     "execution_count": 7,
     "metadata": {},
     "output_type": "execute_result"
    }
   ],
   "source": [
    "size"
   ]
  },
  {
   "cell_type": "markdown",
   "id": "2c7a223b",
   "metadata": {},
   "source": [
    "# img reshape"
   ]
  },
  {
   "cell_type": "code",
   "execution_count": 8,
   "id": "7eba74ef",
   "metadata": {},
   "outputs": [],
   "source": [
    "reshape_image = cv2.resize(img,(700,700))"
   ]
  },
  {
   "cell_type": "code",
   "execution_count": 9,
   "id": "b30f3fb8",
   "metadata": {
    "scrolled": true
   },
   "outputs": [
    {
     "data": {
      "text/plain": [
       "1470000"
      ]
     },
     "execution_count": 9,
     "metadata": {},
     "output_type": "execute_result"
    }
   ],
   "source": [
    "reshape_image.size"
   ]
  },
  {
   "cell_type": "code",
   "execution_count": 10,
   "id": "ac627b10",
   "metadata": {
    "scrolled": false
   },
   "outputs": [
    {
     "data": {
      "text/plain": [
       "(700, 700, 3)"
      ]
     },
     "execution_count": 10,
     "metadata": {},
     "output_type": "execute_result"
    }
   ],
   "source": [
    "reshape_image.shape"
   ]
  },
  {
   "cell_type": "code",
   "execution_count": 11,
   "id": "ff504325",
   "metadata": {},
   "outputs": [],
   "source": [
    "cv2.imshow(\"Image\",img)\n",
    "cv2.imshow(\"Reshipe Image\",reshape_image)\n",
    "cv2.waitKey(0)\n",
    "cv2.destroyAllWindows()"
   ]
  },
  {
   "cell_type": "markdown",
   "id": "52af17d8",
   "metadata": {},
   "source": [
    "# value of pix"
   ]
  },
  {
   "cell_type": "code",
   "execution_count": 12,
   "id": "d36544ce",
   "metadata": {},
   "outputs": [],
   "source": [
    "px = img[201,200]"
   ]
  },
  {
   "cell_type": "code",
   "execution_count": 13,
   "id": "affb5791",
   "metadata": {
    "scrolled": true
   },
   "outputs": [
    {
     "data": {
      "text/plain": [
       "array([[[32, 30, 36],\n",
       "        [32, 30, 36],\n",
       "        [32, 30, 36],\n",
       "        ...,\n",
       "        [18, 17, 19],\n",
       "        [18, 17, 19],\n",
       "        [18, 17, 19]],\n",
       "\n",
       "       [[32, 30, 36],\n",
       "        [32, 30, 36],\n",
       "        [32, 30, 36],\n",
       "        ...,\n",
       "        [18, 17, 19],\n",
       "        [18, 17, 19],\n",
       "        [18, 17, 19]],\n",
       "\n",
       "       [[32, 30, 36],\n",
       "        [32, 30, 36],\n",
       "        [32, 30, 36],\n",
       "        ...,\n",
       "        [18, 17, 19],\n",
       "        [18, 17, 19],\n",
       "        [18, 17, 19]],\n",
       "\n",
       "       ...,\n",
       "\n",
       "       [[ 0,  0,  0],\n",
       "        [ 0,  0,  0],\n",
       "        [ 1,  1,  1],\n",
       "        ...,\n",
       "        [ 0,  0,  0],\n",
       "        [22, 22, 22],\n",
       "        [ 0,  0,  0]],\n",
       "\n",
       "       [[ 0,  0,  0],\n",
       "        [ 8,  8,  8],\n",
       "        [ 9,  9,  9],\n",
       "        ...,\n",
       "        [ 0,  0,  0],\n",
       "        [ 0,  0,  0],\n",
       "        [ 8,  8,  8]],\n",
       "\n",
       "       [[ 0,  0,  0],\n",
       "        [ 0,  0,  0],\n",
       "        [ 0,  0,  0],\n",
       "        ...,\n",
       "        [ 0,  0,  0],\n",
       "        [ 0,  0,  0],\n",
       "        [ 0,  0,  0]]], dtype=uint8)"
      ]
     },
     "execution_count": 13,
     "metadata": {},
     "output_type": "execute_result"
    }
   ],
   "source": [
    "img"
   ]
  },
  {
   "cell_type": "markdown",
   "id": "b71b2c7a",
   "metadata": {},
   "source": [
    "# ROI "
   ]
  },
  {
   "cell_type": "code",
   "execution_count": 14,
   "id": "e8985b5d",
   "metadata": {},
   "outputs": [],
   "source": [
    "img1 = cv2.imread(\"C:\\\\Users\\\\aedpu\\\\OneDrive\\\\Pictures\\\\download.jpeg\")"
   ]
  },
  {
   "cell_type": "code",
   "execution_count": 15,
   "id": "0815db1a",
   "metadata": {
    "scrolled": true
   },
   "outputs": [
    {
     "data": {
      "text/plain": [
       "array([[[247, 247, 247],\n",
       "        [247, 247, 247],\n",
       "        [247, 247, 247],\n",
       "        ...,\n",
       "        [247, 247, 247],\n",
       "        [247, 247, 247],\n",
       "        [247, 247, 247]],\n",
       "\n",
       "       [[247, 247, 247],\n",
       "        [247, 247, 247],\n",
       "        [247, 247, 247],\n",
       "        ...,\n",
       "        [247, 247, 247],\n",
       "        [247, 247, 247],\n",
       "        [247, 247, 247]],\n",
       "\n",
       "       [[247, 247, 247],\n",
       "        [247, 247, 247],\n",
       "        [247, 247, 247],\n",
       "        ...,\n",
       "        [247, 247, 247],\n",
       "        [247, 247, 247],\n",
       "        [247, 247, 247]],\n",
       "\n",
       "       ...,\n",
       "\n",
       "       [[247, 247, 247],\n",
       "        [247, 247, 247],\n",
       "        [247, 247, 247],\n",
       "        ...,\n",
       "        [247, 247, 247],\n",
       "        [247, 247, 247],\n",
       "        [247, 247, 247]],\n",
       "\n",
       "       [[247, 247, 247],\n",
       "        [247, 247, 247],\n",
       "        [247, 247, 247],\n",
       "        ...,\n",
       "        [247, 247, 247],\n",
       "        [247, 247, 247],\n",
       "        [247, 247, 247]],\n",
       "\n",
       "       [[247, 247, 247],\n",
       "        [247, 247, 247],\n",
       "        [247, 247, 247],\n",
       "        ...,\n",
       "        [247, 247, 247],\n",
       "        [247, 247, 247],\n",
       "        [247, 247, 247]]], dtype=uint8)"
      ]
     },
     "execution_count": 15,
     "metadata": {},
     "output_type": "execute_result"
    }
   ],
   "source": [
    "img1"
   ]
  },
  {
   "cell_type": "code",
   "execution_count": 16,
   "id": "7e9b2818",
   "metadata": {},
   "outputs": [],
   "source": [
    "#Select ROI\n",
    "r = cv2.selectROI(\"Select the area \" , img)\n",
    "\n",
    "# crop img\n",
    "cropped_image = img[int(r[1]):int(r[1]+r[3]),\n",
    "                    int(r[0]):int(r[0]+r[2])]\n",
    "cv2.imshow(\"cropped image\",cropped_image)\n",
    "cv2.waitKey(0)\n",
    "cv2.destroyAllWindows()\n"
   ]
  },
  {
   "cell_type": "code",
   "execution_count": 17,
   "id": "4713a7de",
   "metadata": {
    "scrolled": true
   },
   "outputs": [
    {
     "data": {
      "text/plain": [
       "array([[[31, 29, 35],\n",
       "        [31, 29, 35],\n",
       "        [31, 29, 35],\n",
       "        ...,\n",
       "        [16, 15, 17],\n",
       "        [16, 15, 17],\n",
       "        [16, 15, 17]],\n",
       "\n",
       "       [[31, 29, 35],\n",
       "        [31, 29, 35],\n",
       "        [31, 29, 35],\n",
       "        ...,\n",
       "        [16, 15, 17],\n",
       "        [16, 15, 17],\n",
       "        [16, 15, 17]],\n",
       "\n",
       "       [[31, 29, 35],\n",
       "        [31, 29, 35],\n",
       "        [31, 29, 35],\n",
       "        ...,\n",
       "        [16, 15, 17],\n",
       "        [16, 15, 17],\n",
       "        [16, 15, 17]],\n",
       "\n",
       "       ...,\n",
       "\n",
       "       [[16, 16, 16],\n",
       "        [16, 16, 16],\n",
       "        [16, 16, 16],\n",
       "        ...,\n",
       "        [ 0,  0,  0],\n",
       "        [ 0,  0,  0],\n",
       "        [ 0,  0,  0]],\n",
       "\n",
       "       [[16, 16, 16],\n",
       "        [16, 16, 16],\n",
       "        [16, 16, 16],\n",
       "        ...,\n",
       "        [ 0,  0,  0],\n",
       "        [ 0,  0,  0],\n",
       "        [ 0,  0,  0]],\n",
       "\n",
       "       [[16, 16, 16],\n",
       "        [16, 16, 16],\n",
       "        [16, 16, 16],\n",
       "        ...,\n",
       "        [ 0,  0,  0],\n",
       "        [ 0,  0,  0],\n",
       "        [ 0,  0,  0]]], dtype=uint8)"
      ]
     },
     "execution_count": 17,
     "metadata": {},
     "output_type": "execute_result"
    }
   ],
   "source": [
    "cropped_image"
   ]
  },
  {
   "cell_type": "code",
   "execution_count": 18,
   "id": "84e08dc6",
   "metadata": {},
   "outputs": [
    {
     "data": {
      "text/plain": [
       "True"
      ]
     },
     "execution_count": 18,
     "metadata": {},
     "output_type": "execute_result"
    }
   ],
   "source": [
    "cv2.imwrite('saveimage33.png',cropped_image)"
   ]
  },
  {
   "cell_type": "code",
   "execution_count": null,
   "id": "6992f82c",
   "metadata": {},
   "outputs": [],
   "source": []
  }
 ],
 "metadata": {
  "kernelspec": {
   "display_name": "Python 3 (ipykernel)",
   "language": "python",
   "name": "python3"
  },
  "language_info": {
   "codemirror_mode": {
    "name": "ipython",
    "version": 3
   },
   "file_extension": ".py",
   "mimetype": "text/x-python",
   "name": "python",
   "nbconvert_exporter": "python",
   "pygments_lexer": "ipython3",
   "version": "3.9.13"
  }
 },
 "nbformat": 4,
 "nbformat_minor": 5
}
