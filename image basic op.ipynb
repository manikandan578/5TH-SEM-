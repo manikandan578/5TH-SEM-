{
 "cells": [
  {
   "cell_type": "markdown",
   "id": "1ad83b36",
   "metadata": {},
   "source": [
    "# importing libraries"
   ]
  },
  {
   "cell_type": "code",
   "execution_count": 1,
   "id": "b73d8141",
   "metadata": {},
   "outputs": [],
   "source": [
    "import cv2\n",
    "import numpy as np"
   ]
  },
  {
   "cell_type": "markdown",
   "id": "444ff039",
   "metadata": {},
   "source": [
    "# Reading an image"
   ]
  },
  {
   "cell_type": "code",
   "execution_count": 25,
   "id": "deb58e92",
   "metadata": {
    "scrolled": true
   },
   "outputs": [
    {
     "data": {
      "text/plain": [
       "array([[[32, 30, 36],\n",
       "        [32, 30, 36],\n",
       "        [32, 30, 36],\n",
       "        ...,\n",
       "        [18, 17, 19],\n",
       "        [18, 17, 19],\n",
       "        [18, 17, 19]],\n",
       "\n",
       "       [[32, 30, 36],\n",
       "        [32, 30, 36],\n",
       "        [32, 30, 36],\n",
       "        ...,\n",
       "        [18, 17, 19],\n",
       "        [18, 17, 19],\n",
       "        [18, 17, 19]],\n",
       "\n",
       "       [[32, 30, 36],\n",
       "        [32, 30, 36],\n",
       "        [32, 30, 36],\n",
       "        ...,\n",
       "        [18, 17, 19],\n",
       "        [18, 17, 19],\n",
       "        [18, 17, 19]],\n",
       "\n",
       "       ...,\n",
       "\n",
       "       [[ 0,  0,  0],\n",
       "        [ 0,  0,  0],\n",
       "        [ 1,  1,  1],\n",
       "        ...,\n",
       "        [ 0,  0,  0],\n",
       "        [22, 22, 22],\n",
       "        [ 0,  0,  0]],\n",
       "\n",
       "       [[ 0,  0,  0],\n",
       "        [ 8,  8,  8],\n",
       "        [ 9,  9,  9],\n",
       "        ...,\n",
       "        [ 0,  0,  0],\n",
       "        [ 0,  0,  0],\n",
       "        [ 8,  8,  8]],\n",
       "\n",
       "       [[ 0,  0,  0],\n",
       "        [ 0,  0,  0],\n",
       "        [ 0,  0,  0],\n",
       "        ...,\n",
       "        [ 0,  0,  0],\n",
       "        [ 0,  0,  0],\n",
       "        [ 0,  0,  0]]], dtype=uint8)"
      ]
     },
     "execution_count": 25,
     "metadata": {},
     "output_type": "execute_result"
    }
   ],
   "source": [
    "img = cv2.imread(\"C:\\\\Users\\\\aedpu\\\\OneDrive\\\\Pictures\\\\download (1).jpeg\")\n",
    "img"
   ]
  },
  {
   "cell_type": "markdown",
   "id": "406a6236",
   "metadata": {},
   "source": [
    "# Display the image"
   ]
  },
  {
   "cell_type": "code",
   "execution_count": 26,
   "id": "9af94c28",
   "metadata": {},
   "outputs": [],
   "source": [
    "cv2.imshow(\"Image\",img)\n",
    "cv2.waitKey(0)\n",
    "cv2.destroyAllWindows()"
   ]
  },
  {
   "cell_type": "code",
   "execution_count": 27,
   "id": "032bde83",
   "metadata": {},
   "outputs": [],
   "source": [
    "shp = img.shape"
   ]
  },
  {
   "cell_type": "code",
   "execution_count": 28,
   "id": "dfbda115",
   "metadata": {},
   "outputs": [
    {
     "data": {
      "text/plain": [
       "(233, 216, 3)"
      ]
     },
     "execution_count": 28,
     "metadata": {},
     "output_type": "execute_result"
    }
   ],
   "source": [
    "shp"
   ]
  },
  {
   "cell_type": "markdown",
   "id": "a29aa066",
   "metadata": {},
   "source": [
    "# size of an img"
   ]
  },
  {
   "cell_type": "code",
   "execution_count": 29,
   "id": "6140362b",
   "metadata": {},
   "outputs": [],
   "source": [
    "size = img.size"
   ]
  },
  {
   "cell_type": "code",
   "execution_count": 30,
   "id": "cd53f1b1",
   "metadata": {},
   "outputs": [
    {
     "data": {
      "text/plain": [
       "150984"
      ]
     },
     "execution_count": 30,
     "metadata": {},
     "output_type": "execute_result"
    }
   ],
   "source": [
    "size"
   ]
  },
  {
   "cell_type": "markdown",
   "id": "4faeb208",
   "metadata": {},
   "source": [
    "# img reshape"
   ]
  },
  {
   "cell_type": "code",
   "execution_count": 31,
   "id": "64caf722",
   "metadata": {},
   "outputs": [],
   "source": [
    "reshape_image = cv2.resize(img,(700,700))"
   ]
  },
  {
   "cell_type": "code",
   "execution_count": 32,
   "id": "fe8fca5f",
   "metadata": {
    "scrolled": true
   },
   "outputs": [
    {
     "data": {
      "text/plain": [
       "1470000"
      ]
     },
     "execution_count": 32,
     "metadata": {},
     "output_type": "execute_result"
    }
   ],
   "source": [
    "reshape_image.size"
   ]
  },
  {
   "cell_type": "code",
   "execution_count": 33,
   "id": "6d379405",
   "metadata": {
    "scrolled": false
   },
   "outputs": [
    {
     "data": {
      "text/plain": [
       "(700, 700, 3)"
      ]
     },
     "execution_count": 33,
     "metadata": {},
     "output_type": "execute_result"
    }
   ],
   "source": [
    "reshape_image.shape"
   ]
  },
  {
   "cell_type": "code",
   "execution_count": 34,
   "id": "52aadb5d",
   "metadata": {},
   "outputs": [],
   "source": [
    "cv2.imshow(\"Image\",img)\n",
    "cv2.imshow(\"Reshipe Image\",reshape_image)\n",
    "cv2.waitKey(0)\n",
    "cv2.destroyAllWindows()"
   ]
  },
  {
   "cell_type": "markdown",
   "id": "8ce66dd2",
   "metadata": {},
   "source": [
    "# value of pix"
   ]
  },
  {
   "cell_type": "code",
   "execution_count": 35,
   "id": "7f548bad",
   "metadata": {},
   "outputs": [],
   "source": [
    "px = img[201,200]"
   ]
  },
  {
   "cell_type": "code",
   "execution_count": 36,
   "id": "a103b421",
   "metadata": {
    "scrolled": true
   },
   "outputs": [
    {
     "data": {
      "text/plain": [
       "array([[[32, 30, 36],\n",
       "        [32, 30, 36],\n",
       "        [32, 30, 36],\n",
       "        ...,\n",
       "        [18, 17, 19],\n",
       "        [18, 17, 19],\n",
       "        [18, 17, 19]],\n",
       "\n",
       "       [[32, 30, 36],\n",
       "        [32, 30, 36],\n",
       "        [32, 30, 36],\n",
       "        ...,\n",
       "        [18, 17, 19],\n",
       "        [18, 17, 19],\n",
       "        [18, 17, 19]],\n",
       "\n",
       "       [[32, 30, 36],\n",
       "        [32, 30, 36],\n",
       "        [32, 30, 36],\n",
       "        ...,\n",
       "        [18, 17, 19],\n",
       "        [18, 17, 19],\n",
       "        [18, 17, 19]],\n",
       "\n",
       "       ...,\n",
       "\n",
       "       [[ 0,  0,  0],\n",
       "        [ 0,  0,  0],\n",
       "        [ 1,  1,  1],\n",
       "        ...,\n",
       "        [ 0,  0,  0],\n",
       "        [22, 22, 22],\n",
       "        [ 0,  0,  0]],\n",
       "\n",
       "       [[ 0,  0,  0],\n",
       "        [ 8,  8,  8],\n",
       "        [ 9,  9,  9],\n",
       "        ...,\n",
       "        [ 0,  0,  0],\n",
       "        [ 0,  0,  0],\n",
       "        [ 8,  8,  8]],\n",
       "\n",
       "       [[ 0,  0,  0],\n",
       "        [ 0,  0,  0],\n",
       "        [ 0,  0,  0],\n",
       "        ...,\n",
       "        [ 0,  0,  0],\n",
       "        [ 0,  0,  0],\n",
       "        [ 0,  0,  0]]], dtype=uint8)"
      ]
     },
     "execution_count": 36,
     "metadata": {},
     "output_type": "execute_result"
    }
   ],
   "source": [
    "img"
   ]
  },
  {
   "cell_type": "markdown",
   "id": "c303531b",
   "metadata": {},
   "source": [
    "# ROI "
   ]
  },
  {
   "cell_type": "code",
   "execution_count": 37,
   "id": "1dc6acab",
   "metadata": {},
   "outputs": [],
   "source": [
    "img1 = cv2.imread(\"C:\\\\Users\\\\aedpu\\\\OneDrive\\\\Pictures\\\\download.jpeg\")"
   ]
  },
  {
   "cell_type": "code",
   "execution_count": 38,
   "id": "b157f9b4",
   "metadata": {
    "scrolled": true
   },
   "outputs": [
    {
     "data": {
      "text/plain": [
       "array([[[247, 247, 247],\n",
       "        [247, 247, 247],\n",
       "        [247, 247, 247],\n",
       "        ...,\n",
       "        [247, 247, 247],\n",
       "        [247, 247, 247],\n",
       "        [247, 247, 247]],\n",
       "\n",
       "       [[247, 247, 247],\n",
       "        [247, 247, 247],\n",
       "        [247, 247, 247],\n",
       "        ...,\n",
       "        [247, 247, 247],\n",
       "        [247, 247, 247],\n",
       "        [247, 247, 247]],\n",
       "\n",
       "       [[247, 247, 247],\n",
       "        [247, 247, 247],\n",
       "        [247, 247, 247],\n",
       "        ...,\n",
       "        [247, 247, 247],\n",
       "        [247, 247, 247],\n",
       "        [247, 247, 247]],\n",
       "\n",
       "       ...,\n",
       "\n",
       "       [[247, 247, 247],\n",
       "        [247, 247, 247],\n",
       "        [247, 247, 247],\n",
       "        ...,\n",
       "        [247, 247, 247],\n",
       "        [247, 247, 247],\n",
       "        [247, 247, 247]],\n",
       "\n",
       "       [[247, 247, 247],\n",
       "        [247, 247, 247],\n",
       "        [247, 247, 247],\n",
       "        ...,\n",
       "        [247, 247, 247],\n",
       "        [247, 247, 247],\n",
       "        [247, 247, 247]],\n",
       "\n",
       "       [[247, 247, 247],\n",
       "        [247, 247, 247],\n",
       "        [247, 247, 247],\n",
       "        ...,\n",
       "        [247, 247, 247],\n",
       "        [247, 247, 247],\n",
       "        [247, 247, 247]]], dtype=uint8)"
      ]
     },
     "execution_count": 38,
     "metadata": {},
     "output_type": "execute_result"
    }
   ],
   "source": [
    "img1"
   ]
  },
  {
   "cell_type": "code",
   "execution_count": 39,
   "id": "3dcc07b6",
   "metadata": {},
   "outputs": [],
   "source": [
    "#Select ROI\n",
    "r = cv2.selectROI(\"Select the area \" , img)\n",
    "\n",
    "# crop img\n",
    "cropped_image = img[int(r[1]):int(r[1]+r[3]),\n",
    "                    int(r[0]):int(r[0]+r[2])]\n",
    "cv2.imshow(\"cropped image\",cropped_image)\n",
    "cv2.waitKey(0)\n",
    "cv2.destroyAllWindows()\n"
   ]
  },
  {
   "cell_type": "code",
   "execution_count": 40,
   "id": "e0d627c6",
   "metadata": {
    "scrolled": true
   },
   "outputs": [
    {
     "data": {
      "text/plain": [
       "array([[[ 30,  28,  34],\n",
       "        [ 30,  28,  34],\n",
       "        [ 30,  28,  34],\n",
       "        ...,\n",
       "        [ 88,  61, 111],\n",
       "        [ 83,  78,  75],\n",
       "        [ 78,  89,  51]],\n",
       "\n",
       "       [[ 30,  28,  34],\n",
       "        [ 30,  28,  34],\n",
       "        [ 30,  28,  34],\n",
       "        ...,\n",
       "        [ 69,  82,  44],\n",
       "        [ 94,  93, 103],\n",
       "        [ 67,  67,  83]],\n",
       "\n",
       "       [[ 30,  28,  34],\n",
       "        [ 30,  28,  34],\n",
       "        [ 30,  28,  34],\n",
       "        ...,\n",
       "        [ 52,  46,  69],\n",
       "        [ 97, 105,  88],\n",
       "        [ 82,  80,  92]],\n",
       "\n",
       "       ...,\n",
       "\n",
       "       [[ 25,  24,  26],\n",
       "        [ 24,  23,  25],\n",
       "        [ 27,  26,  28],\n",
       "        ...,\n",
       "        [115, 113, 113],\n",
       "        [150, 148, 148],\n",
       "        [187, 185, 185]],\n",
       "\n",
       "       [[ 24,  23,  25],\n",
       "        [ 23,  22,  24],\n",
       "        [ 26,  25,  27],\n",
       "        ...,\n",
       "        [ 40,  38,  37],\n",
       "        [ 14,  12,  11],\n",
       "        [ 37,  35,  34]],\n",
       "\n",
       "       [[ 24,  23,  25],\n",
       "        [ 23,  22,  24],\n",
       "        [ 26,  25,  27],\n",
       "        ...,\n",
       "        [ 98,  96,  95],\n",
       "        [139, 137, 136],\n",
       "        [160, 158, 157]]], dtype=uint8)"
      ]
     },
     "execution_count": 40,
     "metadata": {},
     "output_type": "execute_result"
    }
   ],
   "source": [
    "cropped_image"
   ]
  },
  {
   "cell_type": "code",
   "execution_count": 41,
   "id": "da73904c",
   "metadata": {},
   "outputs": [
    {
     "data": {
      "text/plain": [
       "True"
      ]
     },
     "execution_count": 41,
     "metadata": {},
     "output_type": "execute_result"
    }
   ],
   "source": [
    "cv2.imwrite('saveimage33.png',cropped_image)"
   ]
  },
  {
   "cell_type": "code",
   "execution_count": 44,
   "id": "fa14cf11",
   "metadata": {},
   "outputs": [],
   "source": [
    "img2 = cv2.imread(\"C:\\\\Users\\\\aedpu\\\\OneDrive\\\\Pictures\\\\download .3.jpeg\")"
   ]
  },
  {
   "cell_type": "code",
   "execution_count": 47,
   "id": "73497457",
   "metadata": {},
   "outputs": [],
   "source": [
    "b,g,r = cv2.split(img2)\n",
    "\n",
    "# to display the split image\n",
    "cv2.imshow('image',img2)\n",
    "cv2.imshow('blue',b)\n",
    "cv2.imshow('green',g)\n",
    "cv2.imshow('red',r)\n",
    "cv2.waitKey(0)\n",
    "cv2.destroyAllWindows()"
   ]
  },
  {
   "cell_type": "code",
   "execution_count": null,
   "id": "9e71b3e4",
   "metadata": {},
   "outputs": [],
   "source": []
  }
 ],
 "metadata": {
  "kernelspec": {
   "display_name": "Python 3 (ipykernel)",
   "language": "python",
   "name": "python3"
  },
  "language_info": {
   "codemirror_mode": {
    "name": "ipython",
    "version": 3
   },
   "file_extension": ".py",
   "mimetype": "text/x-python",
   "name": "python",
   "nbconvert_exporter": "python",
   "pygments_lexer": "ipython3",
   "version": "3.9.13"
  }
 },
 "nbformat": 4,
 "nbformat_minor": 5
}
