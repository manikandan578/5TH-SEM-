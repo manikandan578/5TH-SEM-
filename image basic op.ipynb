{
 "cells": [
  {
   "cell_type": "markdown",
   "id": "1ad83b36",
   "metadata": {},
   "source": [
    "# importing libraries"
   ]
  },
  {
   "cell_type": "code",
   "execution_count": 1,
   "id": "b73d8141",
   "metadata": {},
   "outputs": [],
   "source": [
    "import cv2\n",
    "import numpy as np"
   ]
  },
  {
   "cell_type": "markdown",
   "id": "444ff039",
   "metadata": {},
   "source": [
    "# Reading an image"
   ]
  },
  {
   "cell_type": "code",
   "execution_count": 2,
   "id": "deb58e92",
   "metadata": {
    "scrolled": true
   },
   "outputs": [
    {
     "data": {
      "text/plain": [
       "array([[[32, 30, 36],\n",
       "        [32, 30, 36],\n",
       "        [32, 30, 36],\n",
       "        ...,\n",
       "        [18, 17, 19],\n",
       "        [18, 17, 19],\n",
       "        [18, 17, 19]],\n",
       "\n",
       "       [[32, 30, 36],\n",
       "        [32, 30, 36],\n",
       "        [32, 30, 36],\n",
       "        ...,\n",
       "        [18, 17, 19],\n",
       "        [18, 17, 19],\n",
       "        [18, 17, 19]],\n",
       "\n",
       "       [[32, 30, 36],\n",
       "        [32, 30, 36],\n",
       "        [32, 30, 36],\n",
       "        ...,\n",
       "        [18, 17, 19],\n",
       "        [18, 17, 19],\n",
       "        [18, 17, 19]],\n",
       "\n",
       "       ...,\n",
       "\n",
       "       [[ 0,  0,  0],\n",
       "        [ 0,  0,  0],\n",
       "        [ 1,  1,  1],\n",
       "        ...,\n",
       "        [ 0,  0,  0],\n",
       "        [22, 22, 22],\n",
       "        [ 0,  0,  0]],\n",
       "\n",
       "       [[ 0,  0,  0],\n",
       "        [ 8,  8,  8],\n",
       "        [ 9,  9,  9],\n",
       "        ...,\n",
       "        [ 0,  0,  0],\n",
       "        [ 0,  0,  0],\n",
       "        [ 8,  8,  8]],\n",
       "\n",
       "       [[ 0,  0,  0],\n",
       "        [ 0,  0,  0],\n",
       "        [ 0,  0,  0],\n",
       "        ...,\n",
       "        [ 0,  0,  0],\n",
       "        [ 0,  0,  0],\n",
       "        [ 0,  0,  0]]], dtype=uint8)"
      ]
     },
     "execution_count": 2,
     "metadata": {},
     "output_type": "execute_result"
    }
   ],
   "source": [
    "img = cv2.imread(\"C:\\\\Users\\\\aedpu\\\\OneDrive\\\\Pictures\\\\download (1).jpeg\")\n",
    "img"
   ]
  },
  {
   "cell_type": "markdown",
   "id": "406a6236",
   "metadata": {},
   "source": [
    "# Display the image"
   ]
  },
  {
   "cell_type": "code",
   "execution_count": 3,
   "id": "9af94c28",
   "metadata": {},
   "outputs": [],
   "source": [
    "cv2.imshow(\"Image\",img)\n",
    "cv2.waitKey(0)\n",
    "cv2.destroyAllWindows()"
   ]
  },
  {
   "cell_type": "code",
   "execution_count": 4,
   "id": "032bde83",
   "metadata": {},
   "outputs": [],
   "source": [
    "shp = img.shape"
   ]
  },
  {
   "cell_type": "code",
   "execution_count": 5,
   "id": "dfbda115",
   "metadata": {},
   "outputs": [
    {
     "data": {
      "text/plain": [
       "(233, 216, 3)"
      ]
     },
     "execution_count": 5,
     "metadata": {},
     "output_type": "execute_result"
    }
   ],
   "source": [
    "shp"
   ]
  },
  {
   "cell_type": "markdown",
   "id": "a29aa066",
   "metadata": {},
   "source": [
    "# size of an img"
   ]
  },
  {
   "cell_type": "code",
   "execution_count": 6,
   "id": "6140362b",
   "metadata": {},
   "outputs": [],
   "source": [
    "size = img.size"
   ]
  },
  {
   "cell_type": "code",
   "execution_count": 7,
   "id": "cd53f1b1",
   "metadata": {},
   "outputs": [
    {
     "data": {
      "text/plain": [
       "150984"
      ]
     },
     "execution_count": 7,
     "metadata": {},
     "output_type": "execute_result"
    }
   ],
   "source": [
    "size"
   ]
  },
  {
   "cell_type": "markdown",
   "id": "4faeb208",
   "metadata": {},
   "source": [
    "# img reshape"
   ]
  },
  {
   "cell_type": "code",
   "execution_count": 8,
   "id": "64caf722",
   "metadata": {},
   "outputs": [],
   "source": [
    "reshape_image = cv2.resize(img,(700,700))"
   ]
  },
  {
   "cell_type": "code",
   "execution_count": 9,
   "id": "fe8fca5f",
   "metadata": {
    "scrolled": true
   },
   "outputs": [
    {
     "data": {
      "text/plain": [
       "1470000"
      ]
     },
     "execution_count": 9,
     "metadata": {},
     "output_type": "execute_result"
    }
   ],
   "source": [
    "reshape_image.size"
   ]
  },
  {
   "cell_type": "code",
   "execution_count": 10,
   "id": "6d379405",
   "metadata": {},
   "outputs": [
    {
     "data": {
      "text/plain": [
       "(700, 700, 3)"
      ]
     },
     "execution_count": 10,
     "metadata": {},
     "output_type": "execute_result"
    }
   ],
   "source": [
    "reshape_image.shape"
   ]
  },
  {
   "cell_type": "code",
   "execution_count": 11,
   "id": "52aadb5d",
   "metadata": {},
   "outputs": [],
   "source": [
    "cv2.imshow(\"Image\",img)\n",
    "cv2.imshow(\"Reshipe Image\",reshape_image)\n",
    "cv2.waitKey(0)\n",
    "cv2.destroyAllWindows()"
   ]
  },
  {
   "cell_type": "markdown",
   "id": "8ce66dd2",
   "metadata": {},
   "source": [
    "# value of pix"
   ]
  },
  {
   "cell_type": "code",
   "execution_count": 12,
   "id": "7f548bad",
   "metadata": {},
   "outputs": [],
   "source": [
    "px = img[201,200]"
   ]
  },
  {
   "cell_type": "code",
   "execution_count": 13,
   "id": "a103b421",
   "metadata": {
    "scrolled": true
   },
   "outputs": [
    {
     "data": {
      "text/plain": [
       "array([[[32, 30, 36],\n",
       "        [32, 30, 36],\n",
       "        [32, 30, 36],\n",
       "        ...,\n",
       "        [18, 17, 19],\n",
       "        [18, 17, 19],\n",
       "        [18, 17, 19]],\n",
       "\n",
       "       [[32, 30, 36],\n",
       "        [32, 30, 36],\n",
       "        [32, 30, 36],\n",
       "        ...,\n",
       "        [18, 17, 19],\n",
       "        [18, 17, 19],\n",
       "        [18, 17, 19]],\n",
       "\n",
       "       [[32, 30, 36],\n",
       "        [32, 30, 36],\n",
       "        [32, 30, 36],\n",
       "        ...,\n",
       "        [18, 17, 19],\n",
       "        [18, 17, 19],\n",
       "        [18, 17, 19]],\n",
       "\n",
       "       ...,\n",
       "\n",
       "       [[ 0,  0,  0],\n",
       "        [ 0,  0,  0],\n",
       "        [ 1,  1,  1],\n",
       "        ...,\n",
       "        [ 0,  0,  0],\n",
       "        [22, 22, 22],\n",
       "        [ 0,  0,  0]],\n",
       "\n",
       "       [[ 0,  0,  0],\n",
       "        [ 8,  8,  8],\n",
       "        [ 9,  9,  9],\n",
       "        ...,\n",
       "        [ 0,  0,  0],\n",
       "        [ 0,  0,  0],\n",
       "        [ 8,  8,  8]],\n",
       "\n",
       "       [[ 0,  0,  0],\n",
       "        [ 0,  0,  0],\n",
       "        [ 0,  0,  0],\n",
       "        ...,\n",
       "        [ 0,  0,  0],\n",
       "        [ 0,  0,  0],\n",
       "        [ 0,  0,  0]]], dtype=uint8)"
      ]
     },
     "execution_count": 13,
     "metadata": {},
     "output_type": "execute_result"
    }
   ],
   "source": [
    "img"
   ]
  },
  {
   "cell_type": "markdown",
   "id": "c303531b",
   "metadata": {},
   "source": [
    "# ROI "
   ]
  },
  {
   "cell_type": "code",
   "execution_count": 14,
   "id": "1dc6acab",
   "metadata": {},
   "outputs": [],
   "source": [
    "img1 = cv2.imread(\"C:\\\\Users\\\\aedpu\\\\OneDrive\\\\Pictures\\\\download.jpeg\")"
   ]
  },
  {
   "cell_type": "code",
   "execution_count": 15,
   "id": "b157f9b4",
   "metadata": {
    "scrolled": true
   },
   "outputs": [
    {
     "data": {
      "text/plain": [
       "array([[[247, 247, 247],\n",
       "        [247, 247, 247],\n",
       "        [247, 247, 247],\n",
       "        ...,\n",
       "        [247, 247, 247],\n",
       "        [247, 247, 247],\n",
       "        [247, 247, 247]],\n",
       "\n",
       "       [[247, 247, 247],\n",
       "        [247, 247, 247],\n",
       "        [247, 247, 247],\n",
       "        ...,\n",
       "        [247, 247, 247],\n",
       "        [247, 247, 247],\n",
       "        [247, 247, 247]],\n",
       "\n",
       "       [[247, 247, 247],\n",
       "        [247, 247, 247],\n",
       "        [247, 247, 247],\n",
       "        ...,\n",
       "        [247, 247, 247],\n",
       "        [247, 247, 247],\n",
       "        [247, 247, 247]],\n",
       "\n",
       "       ...,\n",
       "\n",
       "       [[247, 247, 247],\n",
       "        [247, 247, 247],\n",
       "        [247, 247, 247],\n",
       "        ...,\n",
       "        [247, 247, 247],\n",
       "        [247, 247, 247],\n",
       "        [247, 247, 247]],\n",
       "\n",
       "       [[247, 247, 247],\n",
       "        [247, 247, 247],\n",
       "        [247, 247, 247],\n",
       "        ...,\n",
       "        [247, 247, 247],\n",
       "        [247, 247, 247],\n",
       "        [247, 247, 247]],\n",
       "\n",
       "       [[247, 247, 247],\n",
       "        [247, 247, 247],\n",
       "        [247, 247, 247],\n",
       "        ...,\n",
       "        [247, 247, 247],\n",
       "        [247, 247, 247],\n",
       "        [247, 247, 247]]], dtype=uint8)"
      ]
     },
     "execution_count": 15,
     "metadata": {},
     "output_type": "execute_result"
    }
   ],
   "source": [
    "img1"
   ]
  },
  {
   "cell_type": "code",
   "execution_count": 16,
   "id": "3dcc07b6",
   "metadata": {},
   "outputs": [],
   "source": [
    "#Select ROI\n",
    "r = cv2.selectROI(\"Select the area \" , img)\n",
    "\n",
    "# crop img\n",
    "cropped_image = img[int(r[1]):int(r[1]+r[3]),\n",
    "                    int(r[0]):int(r[0]+r[2])]\n",
    "cv2.imshow(\"cropped image\",cropped_image )\n",
    "cv2.waitKey(0)\n",
    "cv2.destroyAllWindows()\n"
   ]
  },
  {
   "cell_type": "code",
   "execution_count": 17,
   "id": "e0d627c6",
   "metadata": {
    "scrolled": true
   },
   "outputs": [
    {
     "data": {
      "text/plain": [
       "array([[[32, 30, 36],\n",
       "        [32, 30, 36],\n",
       "        [32, 30, 36],\n",
       "        ...,\n",
       "        [14, 14, 14],\n",
       "        [14, 14, 14],\n",
       "        [14, 14, 14]],\n",
       "\n",
       "       [[32, 30, 36],\n",
       "        [32, 30, 36],\n",
       "        [32, 30, 36],\n",
       "        ...,\n",
       "        [14, 14, 14],\n",
       "        [14, 14, 14],\n",
       "        [14, 14, 14]],\n",
       "\n",
       "       [[32, 30, 36],\n",
       "        [32, 30, 36],\n",
       "        [32, 30, 36],\n",
       "        ...,\n",
       "        [14, 14, 14],\n",
       "        [14, 14, 14],\n",
       "        [14, 14, 14]],\n",
       "\n",
       "       ...,\n",
       "\n",
       "       [[ 8,  8,  8],\n",
       "        [ 6,  6,  6],\n",
       "        [ 0,  0,  0],\n",
       "        ...,\n",
       "        [ 0,  0,  0],\n",
       "        [ 5,  5,  5],\n",
       "        [ 1,  1,  1]],\n",
       "\n",
       "       [[ 0,  0,  0],\n",
       "        [ 8,  8,  8],\n",
       "        [ 0,  0,  0],\n",
       "        ...,\n",
       "        [18, 18, 18],\n",
       "        [ 6,  6,  6],\n",
       "        [ 0,  0,  0]],\n",
       "\n",
       "       [[ 0,  0,  0],\n",
       "        [ 0,  0,  0],\n",
       "        [ 0,  0,  0],\n",
       "        ...,\n",
       "        [ 0,  0,  0],\n",
       "        [ 0,  0,  0],\n",
       "        [ 0,  0,  0]]], dtype=uint8)"
      ]
     },
     "execution_count": 17,
     "metadata": {},
     "output_type": "execute_result"
    }
   ],
   "source": [
    "cropped_image"
   ]
  },
  {
   "cell_type": "code",
   "execution_count": 18,
   "id": "da73904c",
   "metadata": {},
   "outputs": [
    {
     "data": {
      "text/plain": [
       "True"
      ]
     },
     "execution_count": 18,
     "metadata": {},
     "output_type": "execute_result"
    }
   ],
   "source": [
    "cv2.imwrite('saveimage33.png',cropped_image)"
   ]
  },
  {
   "cell_type": "markdown",
   "id": "5d3938df-bbc6-40cc-a289-99edce4e688c",
   "metadata": {},
   "source": [
    "splitting an image"
   ]
  },
  {
   "cell_type": "code",
   "execution_count": 19,
   "id": "fa14cf11",
   "metadata": {},
   "outputs": [],
   "source": [
    "img2 = cv2.imread(\"C:\\\\Users\\\\aedpu\\\\OneDrive\\\\Pictures\\\\download .3.jpeg\")"
   ]
  },
  {
   "cell_type": "code",
   "execution_count": 20,
   "id": "73497457",
   "metadata": {},
   "outputs": [],
   "source": [
    "b,g,r = cv2.split(img2)\n",
    "\n",
    "# to display the split image\n",
    "cv2.imshow('image',img2)\n",
    "cv2.imshow('blue',b)\n",
    "cv2.imshow('green',g)\n",
    "cv2.imshow('red',r)\n",
    "cv2.waitKey(0)\n",
    "cv2.destroyAllWindows()"
   ]
  },
  {
   "cell_type": "markdown",
   "id": "eda959f5-0bf5-4fc8-9f43-993ec75f9d32",
   "metadata": {},
   "source": [
    "merging an  image"
   ]
  },
  {
   "cell_type": "code",
   "execution_count": 27,
   "id": "082cfb82-b31e-4743-bbcc-c861ce743f01",
   "metadata": {},
   "outputs": [],
   "source": [
    "mer = cv2.merge((r,g,r,g))\n",
    "\n",
    "#displaying the mergin image\n",
    "\n",
    "cv2.imshow('merge',mer)\n",
    "cv2.waitKey(0)\n",
    "cv2.destroyAllWindows()"
   ]
  },
  {
   "cell_type": "code",
   "execution_count": 29,
   "id": "50886d6d-81c2-41c8-acab-7d54d27e996a",
   "metadata": {},
   "outputs": [
    {
     "data": {
      "text/plain": [
       "True"
      ]
     },
     "execution_count": 29,
     "metadata": {},
     "output_type": "execute_result"
    }
   ],
   "source": [
    "cv2.imwrite('mergin.png',mer)"
   ]
  },
  {
   "cell_type": "code",
   "execution_count": null,
   "id": "e06a15e9-a1a9-4962-904b-0f29f14851ab",
   "metadata": {},
   "outputs": [],
   "source": []
  }
 ],
 "metadata": {
  "kernelspec": {
   "display_name": "Python 3 (ipykernel)",
   "language": "python",
   "name": "python3"
  },
  "language_info": {
   "codemirror_mode": {
    "name": "ipython",
    "version": 3
   },
   "file_extension": ".py",
   "mimetype": "text/x-python",
   "name": "python",
   "nbconvert_exporter": "python",
   "pygments_lexer": "ipython3",
   "version": "3.9.19"
  }
 },
 "nbformat": 4,
 "nbformat_minor": 5
}
