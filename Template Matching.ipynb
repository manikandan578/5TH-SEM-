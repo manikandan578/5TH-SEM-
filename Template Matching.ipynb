{
 "cells": [
  {
   "cell_type": "code",
   "execution_count": 1,
   "id": "8d83f3ee",
   "metadata": {},
   "outputs": [],
   "source": [
    "import numpy as np \n",
    "import cv2"
   ]
  },
  {
   "cell_type": "code",
   "execution_count": 2,
   "id": "aa53d68e",
   "metadata": {},
   "outputs": [],
   "source": [
    "img = cv2.imread(\"C:\\\\Users\\\\aedpu\\\\Gurubalan Final year\\\\csk.jpg\")"
   ]
  },
  {
   "cell_type": "code",
   "execution_count": 3,
   "id": "dd83cd2c",
   "metadata": {},
   "outputs": [],
   "source": [
    "tem = cv2.imread(\"C:\\\\Users\\\\aedpu\\\\OneDrive\\\\Pictures\\\\csk1.jpg\",0)"
   ]
  },
  {
   "cell_type": "code",
   "execution_count": 4,
   "id": "1b6c2693",
   "metadata": {
    "scrolled": true
   },
   "outputs": [
    {
     "data": {
      "text/plain": [
       "array([[[135,  65,   5],\n",
       "        [134,  64,   4],\n",
       "        [134,  64,   4],\n",
       "        ...,\n",
       "        [150,  71,   4],\n",
       "        [152,  74,   5],\n",
       "        [153,  75,   6]],\n",
       "\n",
       "       [[134,  64,   4],\n",
       "        [133,  63,   3],\n",
       "        [133,  63,   3],\n",
       "        ...,\n",
       "        [148,  69,   2],\n",
       "        [150,  72,   3],\n",
       "        [151,  73,   4]],\n",
       "\n",
       "       [[131,  64,   3],\n",
       "        [130,  63,   2],\n",
       "        [130,  63,   2],\n",
       "        ...,\n",
       "        [149,  68,   1],\n",
       "        [151,  70,   2],\n",
       "        [152,  71,   3]],\n",
       "\n",
       "       ...,\n",
       "\n",
       "       [[245, 244, 254],\n",
       "        [110, 109, 119],\n",
       "        [ 13,   6,  19],\n",
       "        ...,\n",
       "        [ 95, 215, 245],\n",
       "        [ 67, 204, 242],\n",
       "        [ 62, 209, 249]],\n",
       "\n",
       "       [[248, 247, 255],\n",
       "        [105, 101, 113],\n",
       "        [ 22,  15,  30],\n",
       "        ...,\n",
       "        [110, 220, 246],\n",
       "        [ 84, 219, 251],\n",
       "        [ 52, 201, 235]],\n",
       "\n",
       "       [[253, 251, 255],\n",
       "        [122, 118, 130],\n",
       "        [ 44,  34,  50],\n",
       "        ...,\n",
       "        [132, 237, 255],\n",
       "        [ 86, 225, 251],\n",
       "        [ 38, 195, 221]]], dtype=uint8)"
      ]
     },
     "execution_count": 4,
     "metadata": {},
     "output_type": "execute_result"
    }
   ],
   "source": [
    "img"
   ]
  },
  {
   "cell_type": "markdown",
   "id": "a665889c",
   "metadata": {},
   "source": [
    "# Gray Conversion"
   ]
  },
  {
   "cell_type": "code",
   "execution_count": 5,
   "id": "7df376ea",
   "metadata": {},
   "outputs": [],
   "source": [
    "imgGray = cv2.cvtColor(img,cv2.COLOR_BGR2GRAY)"
   ]
  },
  {
   "cell_type": "code",
   "execution_count": 6,
   "id": "3901322e",
   "metadata": {},
   "outputs": [
    {
     "data": {
      "text/plain": [
       "array([[242, 241, 242, ..., 227, 231, 236],\n",
       "       [245, 244, 243, ..., 195, 221, 236],\n",
       "       [246, 245, 244, ..., 161, 209, 216],\n",
       "       ...,\n",
       "       [164, 185, 195, ..., 197, 197, 198],\n",
       "       [185, 201, 204, ..., 196, 196, 197],\n",
       "       [212, 211, 199, ..., 195, 195, 197]], dtype=uint8)"
      ]
     },
     "execution_count": 6,
     "metadata": {},
     "output_type": "execute_result"
    }
   ],
   "source": [
    "tem"
   ]
  },
  {
   "cell_type": "code",
   "execution_count": 7,
   "id": "ea61045f",
   "metadata": {},
   "outputs": [],
   "source": [
    "cv2.imshow(\"source\" ,img)\n",
    "cv2.imshow(\"image\" ,tem)\n",
    "\n",
    "if cv2.waitKey(0) & 0xff == 27:\n",
    "    cv2.destroyAllWindows()"
   ]
  },
  {
   "cell_type": "markdown",
   "id": "c33eb485",
   "metadata": {},
   "source": [
    "# Template width and height"
   ]
  },
  {
   "cell_type": "code",
   "execution_count": 8,
   "id": "44259cea",
   "metadata": {},
   "outputs": [
    {
     "name": "stdout",
     "output_type": "stream",
     "text": [
      "(237, 176)\n"
     ]
    }
   ],
   "source": [
    "print(tem.shape)"
   ]
  },
  {
   "cell_type": "code",
   "execution_count": 9,
   "id": "e0bb0508",
   "metadata": {},
   "outputs": [],
   "source": [
    "w, h = tem.shape[::-1]"
   ]
  },
  {
   "cell_type": "code",
   "execution_count": 10,
   "id": "50dde5ad",
   "metadata": {},
   "outputs": [
    {
     "data": {
      "text/plain": [
       "176"
      ]
     },
     "execution_count": 10,
     "metadata": {},
     "output_type": "execute_result"
    }
   ],
   "source": [
    "w"
   ]
  },
  {
   "cell_type": "code",
   "execution_count": 11,
   "id": "cf4f9384",
   "metadata": {},
   "outputs": [
    {
     "data": {
      "text/plain": [
       "237"
      ]
     },
     "execution_count": 11,
     "metadata": {},
     "output_type": "execute_result"
    }
   ],
   "source": [
    "h"
   ]
  },
  {
   "cell_type": "markdown",
   "id": "3ca73748",
   "metadata": {},
   "source": [
    "# Tepmplate Matching"
   ]
  },
  {
   "cell_type": "code",
   "execution_count": 13,
   "id": "1b32b6ae",
   "metadata": {},
   "outputs": [],
   "source": [
    "mat = cv2.matchTemplate(imgGray,tem, cv2.TM_CCOEFF_NORMED)"
   ]
  },
  {
   "cell_type": "markdown",
   "id": "864ee014",
   "metadata": {},
   "source": [
    "# setting Threshold"
   ]
  },
  {
   "cell_type": "code",
   "execution_count": 18,
   "id": "f7c5dfb3",
   "metadata": {},
   "outputs": [],
   "source": [
    "Threshold = 0.7 "
   ]
  },
  {
   "cell_type": "markdown",
   "id": "fe18e4f2",
   "metadata": {},
   "source": [
    "# Matched location"
   ]
  },
  {
   "cell_type": "code",
   "execution_count": 19,
   "id": "33eddc9e",
   "metadata": {},
   "outputs": [],
   "source": [
    "location  = np.where( mat >=Threshold)"
   ]
  },
  {
   "cell_type": "code",
   "execution_count": 20,
   "id": "4f544156",
   "metadata": {},
   "outputs": [],
   "source": [
    "for pt in zip(*location[::-1]):\n",
    "    cv2.rectangle(img, pt , (pt[0] + w , pt[1] + h) , (0,0,255) , 2)"
   ]
  },
  {
   "cell_type": "code",
   "execution_count": 21,
   "id": "128cf4a0",
   "metadata": {},
   "outputs": [],
   "source": [
    "cv2.imshow(\"Detected\" , img)\n",
    "if cv2.waitKey(0) & 0xff == 27:\n",
    "    cv2.destroyAllWindows()"
   ]
  },
  {
   "cell_type": "code",
   "execution_count": null,
   "id": "9c4f0cfa",
   "metadata": {},
   "outputs": [],
   "source": []
  }
 ],
 "metadata": {
  "kernelspec": {
   "display_name": "Python 3 (ipykernel)",
   "language": "python",
   "name": "python3"
  },
  "language_info": {
   "codemirror_mode": {
    "name": "ipython",
    "version": 3
   },
   "file_extension": ".py",
   "mimetype": "text/x-python",
   "name": "python",
   "nbconvert_exporter": "python",
   "pygments_lexer": "ipython3",
   "version": "3.9.17"
  }
 },
 "nbformat": 4,
 "nbformat_minor": 5
}
