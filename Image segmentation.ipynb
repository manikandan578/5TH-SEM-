{
 "cells": [
  {
   "cell_type": "code",
   "execution_count": 1,
   "id": "af6a32eb-7443-41ee-a683-b0cf4a0acbe8",
   "metadata": {},
   "outputs": [],
   "source": [
    "import cv2\n",
    "import numpy as np\n",
    "\n",
    "img = cv2.imread('sam.jpeg')\n",
    "\n",
    "gray = cv2.cvtColor(img,cv2.COLOR_BGR2GRAY)\n",
    "\n",
    "_,thresh =  cv2.threshold(gray,127, 255,cv2.THRESH_BINARY)\n",
    "\n",
    "contours,_ = cv2.findContours(thresh,cv2.RETR_TREE,cv2.CHAIN_APPROX_SIMPLE)\n",
    "cv2.drawContours(img,contours ,-1 ,(0,255,0),2)\n",
    "\n",
    "cv2.imshow('origial image',img)\n",
    "cv2.imshow('thresholaded image',thresh)\n",
    "cv2.waitKey(0)\n",
    "cv2.destroyAllWindows()"
   ]
  },
  {
   "cell_type": "markdown",
   "id": "253ab8a9-d9f0-407f-92a9-6787d7fea03b",
   "metadata": {},
   "source": [
    "cany edge"
   ]
  },
  {
   "cell_type": "code",
   "execution_count": 2,
   "id": "c61f529b-caa2-40c1-a690-8718db860bb4",
   "metadata": {},
   "outputs": [],
   "source": [
    "img1 = cv2.imread('sam.jpeg')\n",
    "canny = cv2.Canny(img1,500,250)\n",
    "cv2.imshow(' image',img1)\n",
    "cv2.imshow('canny ',canny )\n",
    "cv2.waitKey(0)\n",
    "cv2.destroyAllWindows()"
   ]
  },
  {
   "cell_type": "markdown",
   "id": "84a5cae4-1e7b-4e85-bed2-d637e38c4185",
   "metadata": {},
   "source": [
    "video"
   ]
  },
  {
   "cell_type": "code",
   "execution_count": 3,
   "id": "34547d47-5d25-4a7b-8bcb-3b15a142025a",
   "metadata": {},
   "outputs": [],
   "source": [
    "img2 = cv2.VideoCapture(\"C:\\\\Users\\\\aedpu\\\\Gurubalan Final year\\\\sample.mp4\")"
   ]
  },
  {
   "cell_type": "code",
   "execution_count": 4,
   "id": "c4298147-3a66-44d6-98ab-e4db921d9932",
   "metadata": {},
   "outputs": [
    {
     "data": {
      "text/plain": [
       "True"
      ]
     },
     "execution_count": 4,
     "metadata": {},
     "output_type": "execute_result"
    }
   ],
   "source": [
    "img2.isOpened()"
   ]
  },
  {
   "cell_type": "code",
   "execution_count": 5,
   "id": "ed81797d-fd2a-4ac1-ac5b-306c3fef1142",
   "metadata": {},
   "outputs": [],
   "source": [
    "while(img2.isOpened()):\n",
    "    ret, frame = img2.read()\n",
    "    gray = cv2.cvtColor(frame,cv2.COLOR_BGR2GRAY)\n",
    "    canny = cv2.Canny(gray,25,150)\n",
    "    \n",
    "    cv2.imshow('video',frame)\n",
    "    cv2.imshow('Grey' ,gray)\n",
    "    cv2.imshow('canny ',canny)\n",
    "    if cv2.waitKey(50) & 0xFF == ord('q'):\n",
    "        break\n",
    "        \n",
    "img2.release() \n",
    "cv2.destroyAllWindows()"
   ]
  },
  {
   "cell_type": "code",
   "execution_count": null,
   "id": "452d33fc-2b76-4f17-ae19-753667ef0452",
   "metadata": {},
   "outputs": [],
   "source": []
  },
  {
   "cell_type": "code",
   "execution_count": null,
   "id": "1ecd4262-8638-4336-a7cd-428d40953ccb",
   "metadata": {},
   "outputs": [],
   "source": []
  }
 ],
 "metadata": {
  "kernelspec": {
   "display_name": "Python 3 (ipykernel)",
   "language": "python",
   "name": "python3"
  },
  "language_info": {
   "codemirror_mode": {
    "name": "ipython",
    "version": 3
   },
   "file_extension": ".py",
   "mimetype": "text/x-python",
   "name": "python",
   "nbconvert_exporter": "python",
   "pygments_lexer": "ipython3",
   "version": "3.9.19"
  }
 },
 "nbformat": 4,
 "nbformat_minor": 5
}
