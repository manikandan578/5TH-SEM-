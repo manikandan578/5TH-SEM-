{
 "cells": [
  {
   "cell_type": "markdown",
   "id": "fc0201a2",
   "metadata": {},
   "source": [
    "# importing libraries"
   ]
  },
  {
   "cell_type": "code",
   "execution_count": 1,
   "id": "69518096",
   "metadata": {},
   "outputs": [],
   "source": [
    "import cv2"
   ]
  },
  {
   "cell_type": "code",
   "execution_count": 2,
   "id": "0ab16ca8",
   "metadata": {},
   "outputs": [],
   "source": [
    "import numpy as np"
   ]
  },
  {
   "cell_type": "markdown",
   "id": "179ffbb5",
   "metadata": {},
   "source": [
    "# video read"
   ]
  },
  {
   "cell_type": "code",
   "execution_count": 18,
   "id": "c05ea755",
   "metadata": {},
   "outputs": [],
   "source": [
    "view = cv2.VideoCapture(\"C:\\\\Users\\\\aedpu\\\\MANIKANDAN\\\\6981614-hd_1920_1080_30fps.mp4\")"
   ]
  },
  {
   "cell_type": "code",
   "execution_count": 4,
   "id": "f679467c",
   "metadata": {},
   "outputs": [
    {
     "data": {
      "text/plain": [
       "< cv2.VideoCapture 0000025E56B9CD90>"
      ]
     },
     "execution_count": 4,
     "metadata": {},
     "output_type": "execute_result"
    }
   ],
   "source": [
    "view"
   ]
  },
  {
   "cell_type": "code",
   "execution_count": 5,
   "id": "2bea5b1f",
   "metadata": {},
   "outputs": [
    {
     "name": "stdout",
     "output_type": "stream",
     "text": [
      "True\n"
     ]
    }
   ],
   "source": [
    "print(view.isOpened())"
   ]
  },
  {
   "cell_type": "markdown",
   "id": "e4e0e209",
   "metadata": {},
   "source": [
    "# Displaying the video"
   ]
  },
  {
   "cell_type": "code",
   "execution_count": 6,
   "id": "89727026",
   "metadata": {},
   "outputs": [],
   "source": [
    "while(view.isOpened()):\n",
    "    ret, frame = view.read()\n",
    "    \n",
    "    cv2.imshow('video',frame)\n",
    "    if cv2.waitKey(50) & 0xFF == ord('q'):\n",
    "        break\n",
    "        \n",
    "view.release() \n",
    "cv2.destroyAllWindows()"
   ]
  },
  {
   "cell_type": "markdown",
   "id": "b42c8a13",
   "metadata": {},
   "source": [
    "# Read video Grey Scale"
   ]
  },
  {
   "cell_type": "code",
   "execution_count": 7,
   "id": "3c31266a",
   "metadata": {},
   "outputs": [],
   "source": [
    "while(view.isOpened()):\n",
    "    ret, frame = view.read()\n",
    "    rgb = cv2.cvtColor(frame,cv2.COLOR_BGR2RGB)\n",
    "    hsv = cv2.cvtColor(frame,cv2.COLOR_BGR2HSV)\n",
    "    gray = cv2.cvtColor(frame,cv2.COLOR_BGR2GRAY)\n",
    "    cv2.imshow('video',frame)\n",
    "    cv2.imshow('RGB' ,rgb)    \n",
    "    cv2.imshow('HSV' ,hsv)\n",
    "    cv2.imshow('Grey' ,gray)\n",
    "    \n",
    "    if cv2.waitKey(30) & 0xFF == ord('q'):\n",
    "        break\n",
    "                \n",
    "view.release() \n",
    "cv2.destroyAllWindows()"
   ]
  },
  {
   "cell_type": "markdown",
   "id": "73ce9f80",
   "metadata": {},
   "source": [
    "# webcam Capture"
   ]
  },
  {
   "cell_type": "code",
   "execution_count": 8,
   "id": "f512a934",
   "metadata": {},
   "outputs": [
    {
     "data": {
      "text/plain": [
       "False"
      ]
     },
     "execution_count": 8,
     "metadata": {},
     "output_type": "execute_result"
    }
   ],
   "source": [
    "vid = cv2.VideoCapture(0)\n",
    "re,f = vid.read()\n",
    "re"
   ]
  },
  {
   "cell_type": "markdown",
   "id": "22aa6a58",
   "metadata": {},
   "source": [
    "# webcam Display"
   ]
  },
  {
   "cell_type": "code",
   "execution_count": 9,
   "id": "d3c891f9",
   "metadata": {},
   "outputs": [],
   "source": [
    "#live vs=edio cam working "
   ]
  },
  {
   "cell_type": "code",
   "execution_count": 10,
   "id": "de7e8f27",
   "metadata": {},
   "outputs": [],
   "source": [
    "#while(True):\n",
    "   # ret, frame = vid.read()\n",
    "    #gray = cv2.cvtColor(frame, cv2.COLOR_BGR2GRAY)\n",
    "    #cv2.imshow('frame',frame)\n",
    "    #cv2.imshow('gray',gray)\n",
    "    #if cv2.waitKey(20) & 0xFF == ord('q'):\n",
    "      #  break\n",
    "        \n",
    "#view.release() \n",
    "#cv2.destroyAllWindows()\n"
   ]
  },
  {
   "cell_type": "markdown",
   "id": "316a8e91",
   "metadata": {},
   "source": [
    "# DEFINING CODES"
   ]
  },
  {
   "cell_type": "code",
   "execution_count": 11,
   "id": "c14c0312",
   "metadata": {},
   "outputs": [],
   "source": [
    "#AVI: DIVX, XVID, MJPG, X264\n",
    "#MP4: mp4v\n",
    "#WMV: WMV1,    "
   ]
  },
  {
   "cell_type": "code",
   "execution_count": 14,
   "id": "cdc3343d",
   "metadata": {},
   "outputs": [],
   "source": [
    "fourcc = cv2.VideoWriter_fourcc(*'mp4v')"
   ]
  },
  {
   "cell_type": "code",
   "execution_count": 15,
   "id": "92df40e0",
   "metadata": {},
   "outputs": [],
   "source": [
    "wrt = cv2.VideoWriter('me.mp4',fourcc,50.0,(480,620))"
   ]
  },
  {
   "cell_type": "code",
   "execution_count": 19,
   "id": "5c7b7d99",
   "metadata": {},
   "outputs": [],
   "source": [
    "while(vid.isOpened()):\n",
    "    ret, frame = vid.read()\n",
    "    \n",
    "    wrt.write(frame)\n",
    "    \n",
    "    cv2.imshow('frame',frame)\n",
    "    if cv2.waitKey(1) & 0xFF ==  ord('q'):\n",
    "        break\n",
    "        \n",
    "view.release() \n",
    "wrt.release()\n",
    "cv2.destroyAllWindows()"
   ]
  },
  {
   "cell_type": "code",
   "execution_count": null,
   "id": "9e41c19d",
   "metadata": {},
   "outputs": [],
   "source": []
  }
 ],
 "metadata": {
  "kernelspec": {
   "display_name": "Python 3 (ipykernel)",
   "language": "python",
   "name": "python3"
  },
  "language_info": {
   "codemirror_mode": {
    "name": "ipython",
    "version": 3
   },
   "file_extension": ".py",
   "mimetype": "text/x-python",
   "name": "python",
   "nbconvert_exporter": "python",
   "pygments_lexer": "ipython3",
   "version": "3.9.13"
  }
 },
 "nbformat": 4,
 "nbformat_minor": 5
}
