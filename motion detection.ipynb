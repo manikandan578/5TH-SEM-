{
 "cells": [
  {
   "cell_type": "code",
   "execution_count": 1,
   "id": "0280ab55-74a4-4fc2-a2d7-e564e7ff9e1e",
   "metadata": {},
   "outputs": [],
   "source": [
    "import cv2\n",
    "import numpy as np\n",
    "import matplotlib.pyplot as plt\n",
    "%matplotlib inline"
   ]
  },
  {
   "cell_type": "markdown",
   "id": "d26989ba-3674-4498-879d-6a14a22efec5",
   "metadata": {},
   "source": [
    "video Capture"
   ]
  },
  {
   "cell_type": "code",
   "execution_count": 2,
   "id": "4d376e79-c0cd-4416-9368-0c5682fb78f2",
   "metadata": {},
   "outputs": [],
   "source": [
    "cap = cv2.VideoCapture(0)"
   ]
  },
  {
   "cell_type": "markdown",
   "id": "afc062ed-e7df-4cf7-8455-9fce4154be38",
   "metadata": {},
   "source": [
    "Reading & Color Conversion"
   ]
  },
  {
   "cell_type": "code",
   "execution_count": 3,
   "id": "b69451c9-5cf0-48b2-a1d6-df5245fd8a05",
   "metadata": {},
   "outputs": [],
   "source": [
    "ret , frame = cap.read()\n",
    "prv = cv2.cvtColor(frame,cv2.COLOR_BGR2GRAY)"
   ]
  },
  {
   "cell_type": "markdown",
   "id": "445c0422-2107-48f1-b586-14a0ce989245",
   "metadata": {},
   "source": [
    "Zero matrix"
   ]
  },
  {
   "cell_type": "code",
   "execution_count": 4,
   "id": "4959aa26-b232-4af7-ab1b-5db76ea2f697",
   "metadata": {},
   "outputs": [],
   "source": [
    "hsv = np.zeros_like (frame)\n",
    "hsv[...,1] = 255"
   ]
  },
  {
   "cell_type": "code",
   "execution_count": 5,
   "id": "cbbf9a47-e7e8-4191-a337-5c4112691f51",
   "metadata": {},
   "outputs": [
    {
     "ename": "KeyboardInterrupt",
     "evalue": "",
     "output_type": "error",
     "traceback": [
      "\u001b[1;31m---------------------------------------------------------------------------\u001b[0m",
      "\u001b[1;31mKeyboardInterrupt\u001b[0m                         Traceback (most recent call last)",
      "Cell \u001b[1;32mIn[5], line 4\u001b[0m\n\u001b[0;32m      2\u001b[0m ret, fra \u001b[38;5;241m=\u001b[39mcap\u001b[38;5;241m.\u001b[39mread()\n\u001b[0;32m      3\u001b[0m \u001b[38;5;28mnext\u001b[39m  \u001b[38;5;241m=\u001b[39m cv2\u001b[38;5;241m.\u001b[39mcvtColor(fra, cv2\u001b[38;5;241m.\u001b[39mCOLOR_BGR2GRAY)\n\u001b[1;32m----> 4\u001b[0m flow \u001b[38;5;241m=\u001b[39m cv2\u001b[38;5;241m.\u001b[39mcalcOpticalFlowFarneback(prv, \u001b[38;5;28mnext\u001b[39m,\u001b[38;5;28;01mNone\u001b[39;00m,\u001b[38;5;241m0.5\u001b[39m,\u001b[38;5;241m3\u001b[39m,\u001b[38;5;241m15\u001b[39m,\u001b[38;5;241m3\u001b[39m,\u001b[38;5;241m5\u001b[39m,\u001b[38;5;241m1.2\u001b[39m,\u001b[38;5;241m0\u001b[39m)\n\u001b[0;32m      5\u001b[0m mag ,ang \u001b[38;5;241m=\u001b[39m cv2\u001b[38;5;241m.\u001b[39mcartToPolar(flow[\u001b[38;5;241m.\u001b[39m\u001b[38;5;241m.\u001b[39m\u001b[38;5;241m.\u001b[39m,\u001b[38;5;241m0\u001b[39m],flow[\u001b[38;5;241m.\u001b[39m\u001b[38;5;241m.\u001b[39m\u001b[38;5;241m.\u001b[39m,\u001b[38;5;241m1\u001b[39m])\n\u001b[0;32m      6\u001b[0m hsv[\u001b[38;5;241m.\u001b[39m\u001b[38;5;241m.\u001b[39m\u001b[38;5;241m.\u001b[39m,\u001b[38;5;241m0\u001b[39m] \u001b[38;5;241m=\u001b[39m ang\u001b[38;5;241m*\u001b[39m\u001b[38;5;241m1800\u001b[39m\u001b[38;5;241m/\u001b[39mnp\u001b[38;5;241m.\u001b[39mpi\u001b[38;5;241m/\u001b[39m\u001b[38;5;241m2\u001b[39m\n",
      "\u001b[1;31mKeyboardInterrupt\u001b[0m: "
     ]
    }
   ],
   "source": [
    "while(1):\n",
    "    ret, fra =cap.read()\n",
    "    next  = cv2.cvtColor(fra, cv2.COLOR_BGR2GRAY)\n",
    "    flow = cv2.calcOpticalFlowFarneback(prv, next,None,0.5,3,15,3,5,1.2,0)\n",
    "    mag ,ang = cv2.cartToPolar(flow[...,0],flow[...,1])\n",
    "    hsv[...,0] = ang*1800/np.pi/2\n",
    "    hsv[...,2] = cv2.normalize(mag,None,0,255,cv2.NORM_MINMAX)\n",
    "    rgb = cv2.cvtColor(hsv,cv2.COLOR_HSV2RGB)\n",
    "    cv2.imshow('frame',rgb)\n",
    "    k = cv2.waitKey(30) & 0xff\n",
    "    if k ==27:\n",
    "        break\n",
    "\n",
    "cap.release()\n",
    "cv2.destroyAllwindows()"
   ]
  },
  {
   "cell_type": "code",
   "execution_count": null,
   "id": "4eed8f0b-105e-43b0-a8e5-22344601197e",
   "metadata": {},
   "outputs": [],
   "source": []
  }
 ],
 "metadata": {
  "kernelspec": {
   "display_name": "Python 3 (ipykernel)",
   "language": "python",
   "name": "python3"
  },
  "language_info": {
   "codemirror_mode": {
    "name": "ipython",
    "version": 3
   },
   "file_extension": ".py",
   "mimetype": "text/x-python",
   "name": "python",
   "nbconvert_exporter": "python",
   "pygments_lexer": "ipython3",
   "version": "3.11.9"
  }
 },
 "nbformat": 4,
 "nbformat_minor": 5
}
