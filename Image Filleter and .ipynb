{
 "cells": [
  {
   "cell_type": "code",
   "execution_count": 1,
   "id": "bc810a0e-72c5-42d5-a2d1-9904995d7705",
   "metadata": {},
   "outputs": [],
   "source": [
    "import cv2\n",
    "import numpy as np"
   ]
  },
  {
   "cell_type": "markdown",
   "id": "0b1bde9e-bb84-4466-96d6-360a36753bbf",
   "metadata": {},
   "source": [
    "# image reading"
   ]
  },
  {
   "cell_type": "code",
   "execution_count": 2,
   "id": "226e21b7-14ca-4d62-a0dc-1b0d8d408d89",
   "metadata": {},
   "outputs": [],
   "source": [
    "img1 = cv2.imread(\"C:\\\\Users\\\\aedpu\\\\OneDrive\\\\Pictures\\\\noise.jpeg\")"
   ]
  },
  {
   "cell_type": "code",
   "execution_count": 3,
   "id": "c3eee6a6-0ddc-4f50-ba9c-db7cb7fb6d5a",
   "metadata": {},
   "outputs": [],
   "source": [
    "cv2.imshow(\"Original\",img1)\n",
    "cv2.waitKey(0)\n",
    "cv2.destroyAllWindows()"
   ]
  },
  {
   "cell_type": "code",
   "execution_count": 4,
   "id": "ed6f2080-f638-4bda-a4dc-ccf2bb152349",
   "metadata": {},
   "outputs": [
    {
     "name": "stdout",
     "output_type": "stream",
     "text": [
      "(164, 308, 3)\n"
     ]
    }
   ],
   "source": [
    "shp=img1.shape\n",
    "print(shp)"
   ]
  },
  {
   "cell_type": "markdown",
   "id": "431e3246-2d6c-4d56-bf64-70361f00f761",
   "metadata": {},
   "source": [
    "# shape after resize"
   ]
  },
  {
   "cell_type": "code",
   "execution_count": 5,
   "id": "395fc186-02f0-402e-b8a0-84691d7a41bf",
   "metadata": {},
   "outputs": [],
   "source": [
    "img = cv2.resize(img1,(720,720))"
   ]
  },
  {
   "cell_type": "code",
   "execution_count": 6,
   "id": "bef5fce1-0cae-4205-9926-31e09d3b6f9a",
   "metadata": {},
   "outputs": [
    {
     "data": {
      "text/plain": [
       "True"
      ]
     },
     "execution_count": 6,
     "metadata": {},
     "output_type": "execute_result"
    }
   ],
   "source": [
    "cv2.imwrite(\"C:\\\\Users\\\\aedpu\\\\OneDrive\\\\Pictures\\\\imgre.png\",img)"
   ]
  },
  {
   "cell_type": "code",
   "execution_count": 7,
   "id": "16b65c69-3757-48d8-9869-99d8b3874b07",
   "metadata": {
    "scrolled": true
   },
   "outputs": [
    {
     "name": "stdout",
     "output_type": "stream",
     "text": [
      "(720, 720, 3)\n"
     ]
    }
   ],
   "source": [
    "shp=img.shape\n",
    "print(shp)"
   ]
  },
  {
   "cell_type": "code",
   "execution_count": 8,
   "id": "18a47215-aaf4-4893-a4dd-d2ea98d33c82",
   "metadata": {},
   "outputs": [],
   "source": [
    "cv2.imshow(\"resize\",img)\n",
    "cv2.waitKey(0)\n",
    "cv2.destroyAllWindows()"
   ]
  },
  {
   "cell_type": "markdown",
   "id": "ea55cb36",
   "metadata": {},
   "source": [
    "# image filters"
   ]
  },
  {
   "cell_type": "markdown",
   "id": "2f3bae41-4a72-4e0d-8564-e45f66eaee62",
   "metadata": {},
   "source": [
    "# image smoothing 2d convolution"
   ]
  },
  {
   "cell_type": "markdown",
   "id": "a3211660-530e-45e3-baad-ea506f6bf4d3",
   "metadata": {},
   "source": [
    "# kernal"
   ]
  },
  {
   "cell_type": "code",
   "execution_count": 9,
   "id": "e6fde213-080e-49ea-afaa-2b5b728e5e23",
   "metadata": {},
   "outputs": [],
   "source": [
    "kernal =  np.ones((10,10),float)/100"
   ]
  },
  {
   "cell_type": "code",
   "execution_count": 10,
   "id": "3027bbf6-29a7-4b8b-8110-be93bbdaa1d7",
   "metadata": {},
   "outputs": [
    {
     "name": "stdout",
     "output_type": "stream",
     "text": [
      "[[0.01 0.01 0.01 0.01 0.01 0.01 0.01 0.01 0.01 0.01]\n",
      " [0.01 0.01 0.01 0.01 0.01 0.01 0.01 0.01 0.01 0.01]\n",
      " [0.01 0.01 0.01 0.01 0.01 0.01 0.01 0.01 0.01 0.01]\n",
      " [0.01 0.01 0.01 0.01 0.01 0.01 0.01 0.01 0.01 0.01]\n",
      " [0.01 0.01 0.01 0.01 0.01 0.01 0.01 0.01 0.01 0.01]\n",
      " [0.01 0.01 0.01 0.01 0.01 0.01 0.01 0.01 0.01 0.01]\n",
      " [0.01 0.01 0.01 0.01 0.01 0.01 0.01 0.01 0.01 0.01]\n",
      " [0.01 0.01 0.01 0.01 0.01 0.01 0.01 0.01 0.01 0.01]\n",
      " [0.01 0.01 0.01 0.01 0.01 0.01 0.01 0.01 0.01 0.01]\n",
      " [0.01 0.01 0.01 0.01 0.01 0.01 0.01 0.01 0.01 0.01]]\n"
     ]
    }
   ],
   "source": [
    "print(kernal)"
   ]
  },
  {
   "cell_type": "markdown",
   "id": "515b144d-0a43-47d5-90a0-96aeffca3aab",
   "metadata": {},
   "source": [
    "# 2D Filtering display "
   ]
  },
  {
   "cell_type": "code",
   "execution_count": 11,
   "id": "e373d4ae-c844-4a8c-915d-6f1b705270d4",
   "metadata": {},
   "outputs": [],
   "source": [
    "fillter2D = cv2.filter2D(img,-1,kernal)"
   ]
  },
  {
   "cell_type": "code",
   "execution_count": 12,
   "id": "ac6084be-84c7-4da3-8e4c-d52f6567f12a",
   "metadata": {},
   "outputs": [
    {
     "data": {
      "text/plain": [
       "array([[[ 6,  4,  4],\n",
       "        [ 6,  4,  4],\n",
       "        [ 6,  4,  4],\n",
       "        ...,\n",
       "        [10,  4,  5],\n",
       "        [10,  4,  5],\n",
       "        [10,  4,  5]],\n",
       "\n",
       "       [[ 6,  4,  4],\n",
       "        [ 6,  4,  4],\n",
       "        [ 6,  4,  4],\n",
       "        ...,\n",
       "        [10,  4,  5],\n",
       "        [10,  4,  5],\n",
       "        [10,  4,  5]],\n",
       "\n",
       "       [[ 6,  4,  4],\n",
       "        [ 6,  4,  4],\n",
       "        [ 6,  4,  4],\n",
       "        ...,\n",
       "        [10,  4,  5],\n",
       "        [10,  4,  5],\n",
       "        [10,  4,  5]],\n",
       "\n",
       "       ...,\n",
       "\n",
       "       [[13,  9, 23],\n",
       "        [13,  9, 23],\n",
       "        [13,  9, 23],\n",
       "        ...,\n",
       "        [15, 11, 17],\n",
       "        [15, 11, 17],\n",
       "        [15, 11, 17]],\n",
       "\n",
       "       [[14,  9, 24],\n",
       "        [14,  9, 24],\n",
       "        [14,  9, 23],\n",
       "        ...,\n",
       "        [14, 10, 16],\n",
       "        [14, 10, 16],\n",
       "        [14, 10, 16]],\n",
       "\n",
       "       [[14, 10, 24],\n",
       "        [14, 10, 24],\n",
       "        [14, 10, 24],\n",
       "        ...,\n",
       "        [14, 10, 16],\n",
       "        [14, 10, 16],\n",
       "        [14, 10, 16]]], dtype=uint8)"
      ]
     },
     "execution_count": 12,
     "metadata": {},
     "output_type": "execute_result"
    }
   ],
   "source": [
    "fillter2D"
   ]
  },
  {
   "cell_type": "code",
   "execution_count": 13,
   "id": "a8a6744a-7497-4e73-a5dc-7cd941a0dab7",
   "metadata": {},
   "outputs": [],
   "source": [
    "cv2.imshow(\"fillter2D\",fillter2D)\n",
    "cv2.imshow(\"Orginal\",img)\n",
    "cv2.waitKey(0)\n",
    "cv2.destroyAllWindows()"
   ]
  },
  {
   "cell_type": "markdown",
   "id": "3c4c8d16-c0d2-4322-b2f8-a31a8c121704",
   "metadata": {},
   "source": [
    "# image Blurring "
   ]
  },
  {
   "cell_type": "code",
   "execution_count": 14,
   "id": "f9c8a16f-1c77-4f2d-b846-c25cc056b0ec",
   "metadata": {},
   "outputs": [],
   "source": [
    "blur = cv2.blur(img,(6,6))"
   ]
  },
  {
   "cell_type": "code",
   "execution_count": 15,
   "id": "b422116d-5402-4adf-9ca2-195b392046ae",
   "metadata": {
    "scrolled": true
   },
   "outputs": [
    {
     "data": {
      "text/plain": [
       "array([[[ 6,  4,  4],\n",
       "        [ 6,  4,  4],\n",
       "        [ 6,  4,  4],\n",
       "        ...,\n",
       "        [10,  4,  5],\n",
       "        [10,  4,  5],\n",
       "        [10,  4,  5]],\n",
       "\n",
       "       [[ 6,  4,  4],\n",
       "        [ 6,  4,  4],\n",
       "        [ 6,  4,  4],\n",
       "        ...,\n",
       "        [10,  4,  5],\n",
       "        [10,  4,  5],\n",
       "        [10,  4,  5]],\n",
       "\n",
       "       [[ 6,  4,  4],\n",
       "        [ 6,  4,  4],\n",
       "        [ 6,  4,  4],\n",
       "        ...,\n",
       "        [10,  4,  5],\n",
       "        [10,  4,  5],\n",
       "        [10,  4,  5]],\n",
       "\n",
       "       ...,\n",
       "\n",
       "       [[15, 10, 25],\n",
       "        [15, 10, 25],\n",
       "        [15, 10, 25],\n",
       "        ...,\n",
       "        [14, 10, 16],\n",
       "        [14, 10, 16],\n",
       "        [14, 10, 16]],\n",
       "\n",
       "       [[17, 12, 26],\n",
       "        [17, 12, 26],\n",
       "        [16, 11, 26],\n",
       "        ...,\n",
       "        [14, 10, 16],\n",
       "        [14, 10, 16],\n",
       "        [14, 10, 16]],\n",
       "\n",
       "       [[17, 12, 27],\n",
       "        [17, 12, 27],\n",
       "        [17, 12, 27],\n",
       "        ...,\n",
       "        [13,  9, 15],\n",
       "        [13,  9, 15],\n",
       "        [13,  9, 15]]], dtype=uint8)"
      ]
     },
     "execution_count": 15,
     "metadata": {},
     "output_type": "execute_result"
    }
   ],
   "source": [
    "blur"
   ]
  },
  {
   "cell_type": "code",
   "execution_count": 16,
   "id": "367bd492-edbc-42e0-b8f6-88cf44fdf63b",
   "metadata": {},
   "outputs": [],
   "source": [
    "cv2.imshow(\"blur\",blur)\n",
    "cv2.imshow(\"Orginal\",img)\n",
    "cv2.waitKey(0)\n",
    "cv2.destroyAllWindows()"
   ]
  },
  {
   "cell_type": "markdown",
   "id": "dc95c35d-1bc5-4fd8-8b98-b85866ff3ff0",
   "metadata": {},
   "source": [
    "# image blurring - Gaussian image"
   ]
  },
  {
   "cell_type": "code",
   "execution_count": 17,
   "id": "c498a7e0-f2d2-4348-be05-930e89348f4a",
   "metadata": {
    "scrolled": true
   },
   "outputs": [
    {
     "data": {
      "text/plain": [
       "array([[[ 6,  4,  4],\n",
       "        [ 6,  4,  4],\n",
       "        [ 6,  4,  4],\n",
       "        ...,\n",
       "        [10,  4,  5],\n",
       "        [10,  4,  5],\n",
       "        [10,  4,  5]],\n",
       "\n",
       "       [[ 6,  4,  4],\n",
       "        [ 6,  4,  4],\n",
       "        [ 6,  4,  4],\n",
       "        ...,\n",
       "        [10,  4,  5],\n",
       "        [10,  4,  5],\n",
       "        [10,  4,  5]],\n",
       "\n",
       "       [[ 6,  4,  4],\n",
       "        [ 6,  4,  4],\n",
       "        [ 6,  4,  4],\n",
       "        ...,\n",
       "        [10,  4,  5],\n",
       "        [10,  4,  5],\n",
       "        [10,  4,  5]],\n",
       "\n",
       "       ...,\n",
       "\n",
       "       [[15, 10, 25],\n",
       "        [16, 11, 26],\n",
       "        [18, 13, 28],\n",
       "        ...,\n",
       "        [13,  9, 15],\n",
       "        [13,  9, 15],\n",
       "        [13,  9, 15]],\n",
       "\n",
       "       [[16, 11, 26],\n",
       "        [17, 12, 26],\n",
       "        [19, 14, 29],\n",
       "        ...,\n",
       "        [13,  9, 15],\n",
       "        [13,  9, 15],\n",
       "        [13,  9, 15]],\n",
       "\n",
       "       [[16, 11, 26],\n",
       "        [17, 12, 27],\n",
       "        [19, 14, 29],\n",
       "        ...,\n",
       "        [13,  9, 15],\n",
       "        [13,  9, 15],\n",
       "        [13,  9, 15]]], dtype=uint8)"
      ]
     },
     "execution_count": 17,
     "metadata": {},
     "output_type": "execute_result"
    }
   ],
   "source": [
    "img"
   ]
  },
  {
   "cell_type": "code",
   "execution_count": 18,
   "id": "e86d734e-a4c2-4025-9e6b-ea1bc1399130",
   "metadata": {},
   "outputs": [],
   "source": [
    "gauss = cv2.GaussianBlur(img,(5,5),4)"
   ]
  },
  {
   "cell_type": "code",
   "execution_count": 19,
   "id": "de5fe027-b1d2-47b7-bbfd-42461da12611",
   "metadata": {},
   "outputs": [],
   "source": [
    "cv2.imshow(\"gauss\",gauss)\n",
    "cv2.imshow(\"Orginal\",img)\n",
    "cv2.waitKey(0)\n",
    "cv2.destroyAllWindows()"
   ]
  },
  {
   "cell_type": "markdown",
   "id": "61b6dd19-1d96-4112-b08c-32b4eab27853",
   "metadata": {},
   "source": [
    "# image blurring - median filter"
   ]
  },
  {
   "cell_type": "code",
   "execution_count": 20,
   "id": "86f505cd-306a-4cc6-b70a-edfd368449bb",
   "metadata": {},
   "outputs": [],
   "source": [
    "img1 = cv2.imread(\"C:\\\\Users\\\\aedpu\\\\OneDrive\\\\Pictures\\\\Noise_salt_and_pepper.png\")"
   ]
  },
  {
   "cell_type": "code",
   "execution_count": 21,
   "id": "9fd52c4a-63c2-46f4-81f0-9231d1970491",
   "metadata": {},
   "outputs": [],
   "source": [
    "med = cv2.medianBlur(img1,5)"
   ]
  },
  {
   "cell_type": "code",
   "execution_count": 22,
   "id": "e624a405-6251-408e-a4a1-cf653b695259",
   "metadata": {},
   "outputs": [],
   "source": [
    "cv2.imshow(\"med\",med)\n",
    "cv2.imshow(\"Orginal\",img1)\n",
    "cv2.waitKey(0)\n",
    "cv2.destroyAllWindows()"
   ]
  },
  {
   "cell_type": "markdown",
   "id": "e8be7ff9",
   "metadata": {},
   "source": [
    "# image blurring-  bilaterl filter"
   ]
  },
  {
   "cell_type": "code",
   "execution_count": 23,
   "id": "bd523426",
   "metadata": {},
   "outputs": [],
   "source": [
    "img2 = cv2.imread(\"C:\\\\Users\\\\aedpu\\\\OneDrive\\\\Pictures\\\\imgre.png\")"
   ]
  },
  {
   "cell_type": "code",
   "execution_count": 32,
   "id": "965485d7",
   "metadata": {},
   "outputs": [],
   "source": [
    "bilat = cv2.bilateralFilter(img2,9,100,100)"
   ]
  },
  {
   "cell_type": "code",
   "execution_count": 33,
   "id": "6b4da505",
   "metadata": {},
   "outputs": [],
   "source": [
    "cv2.imshow(\"fillter2D\",fillter2D)\n",
    "cv2.imshow(\"blur\",blur)\n",
    "cv2.imshow(\"gauss\",gauss)\n",
    "cv2.imshow(\"med\",med)\n",
    "cv2.imshow(\"bilat\",bilat)\n",
    "cv2.imshow(\"Orginal\",img2)\n",
    "cv2.waitKey(0)\n",
    "cv2.destroyAllWindows()"
   ]
  },
  {
   "cell_type": "code",
   "execution_count": 38,
   "id": "a58b4e28",
   "metadata": {},
   "outputs": [],
   "source": [
    "img3 = cv2.imread(\"C:\\\\Users\\\\aedpu\\\\OneDrive\\\\Pictures\\\\color.jpg\")"
   ]
  },
  {
   "cell_type": "code",
   "execution_count": 39,
   "id": "3faeb8d3",
   "metadata": {},
   "outputs": [],
   "source": [
    "bilat = cv2.bilateralFilter(img3,9,9,9)"
   ]
  },
  {
   "cell_type": "markdown",
   "id": "92ae56fa",
   "metadata": {},
   "source": [
    "color = cv2.bilateralFilter(img, 9, 250, 250) \n",
    "cartoon = cv2.bitwise_and(color, color, mask=edges)"
   ]
  },
  {
   "cell_type": "markdown",
   "id": "d3c4aa7c",
   "metadata": {},
   "source": [
    "cv2.imshow(\"bilat\",bilat)\n",
    "cv2.imshow(\"Orginal\",img3)\n",
    "cv2.waitKey(0)\n",
    "cv2.destroyAllWindows()"
   ]
  },
  {
   "cell_type": "code",
   "execution_count": 43,
   "id": "46f5a5bd",
   "metadata": {},
   "outputs": [],
   "source": []
  },
  {
   "cell_type": "code",
   "execution_count": null,
   "id": "8de36f89",
   "metadata": {},
   "outputs": [],
   "source": []
  }
 ],
 "metadata": {
  "kernelspec": {
   "display_name": "Python 3 (ipykernel)",
   "language": "python",
   "name": "python3"
  },
  "language_info": {
   "codemirror_mode": {
    "name": "ipython",
    "version": 3
   },
   "file_extension": ".py",
   "mimetype": "text/x-python",
   "name": "python",
   "nbconvert_exporter": "python",
   "pygments_lexer": "ipython3",
   "version": "3.9.17"
  }
 },
 "nbformat": 4,
 "nbformat_minor": 5
}
