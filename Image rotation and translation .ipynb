{
 "cells": [
  {
   "cell_type": "code",
   "execution_count": 1,
   "id": "1e207e96-05ef-4600-adc6-ce8ac18c794e",
   "metadata": {},
   "outputs": [],
   "source": [
    "import cv2\n",
    "import numpy as np"
   ]
  },
  {
   "cell_type": "code",
   "execution_count": 2,
   "id": "5ff354d3-8e8a-4fe5-b5c8-c87784a13f13",
   "metadata": {},
   "outputs": [
    {
     "name": "stdout",
     "output_type": "stream",
     "text": [
      "(512, 512, 3)\n",
      "512\n",
      "512\n"
     ]
    }
   ],
   "source": [
    "img_1 = cv2.imread(\"C:\\\\Users\\\\aedpu\\\\OneDrive\\\\Pictures\\\\Thanos.jpg\")\n",
    "img = cv2.resize(img_1,(512,512))\n",
    "shp=img.shape\n",
    "print(shp)\n",
    "height,width=img.shape[:2]\n",
    "print(height)\n",
    "print(width)"
   ]
  },
  {
   "cell_type": "code",
   "execution_count": 3,
   "id": "10f203cb-fb27-49db-bbd1-8a719fac5753",
   "metadata": {},
   "outputs": [],
   "source": [
    "cv2.imshow(\"IMG\",img)\n",
    "cv2.waitKey(0)\n",
    "cv2.destroyAllWindows()"
   ]
  },
  {
   "cell_type": "code",
   "execution_count": 4,
   "id": "315b21ad-3151-4307-9d22-44e79f11835f",
   "metadata": {},
   "outputs": [
    {
     "name": "stdout",
     "output_type": "stream",
     "text": [
      "(256.0, 256.0)\n"
     ]
    }
   ],
   "source": [
    "center = (width/2,height/2)\n",
    "print(center)"
   ]
  },
  {
   "cell_type": "code",
   "execution_count": 5,
   "id": "93395bb5-d9de-40ec-84a3-43eb4d6ce5e8",
   "metadata": {},
   "outputs": [
    {
     "name": "stdout",
     "output_type": "stream",
     "text": [
      "[[-1.0000000e+00  1.2246468e-16  5.1200000e+02]\n",
      " [-1.2246468e-16 -1.0000000e+00  5.1200000e+02]]\n"
     ]
    }
   ],
   "source": [
    "rotate_matrix = cv2.getRotationMatrix2D(center= center, angle = 180 , scale = 1.0)\n",
    "print(rotate_matrix)"
   ]
  },
  {
   "cell_type": "code",
   "execution_count": 6,
   "id": "16a3a256-565b-469f-b8e1-84477ed33e1d",
   "metadata": {},
   "outputs": [],
   "source": [
    "rotate_image = cv2.warpAffine(src=img, M=rotate_matrix, dsize=(width,height))\n",
    "cv2.imshow(\"ORG_Image\",img)\n",
    "cv2.waitKey(0)\n",
    "cv2.imshow(\"rotate_image\",rotate_image)\n",
    "cv2.waitKey(0)\n",
    "cv2.destroyAllWindows()"
   ]
  },
  {
   "cell_type": "markdown",
   "id": "8eda025a-d00b-494f-9fcf-10a9c715a0b5",
   "metadata": {},
   "source": [
    "translation"
   ]
  },
  {
   "cell_type": "code",
   "execution_count": 7,
   "id": "1ec230b5-d905-4ff6-98d3-9ba5c3e22263",
   "metadata": {},
   "outputs": [
    {
     "name": "stdout",
     "output_type": "stream",
     "text": [
      "100.0\n",
      "50.0\n"
     ]
    }
   ],
   "source": [
    "tx , ty = 100.0,50.0\n",
    "print(tx)\n",
    "print(ty)"
   ]
  },
  {
   "cell_type": "code",
   "execution_count": 8,
   "id": "2b539e82-c328-499d-9c29-084cf3c6b0e8",
   "metadata": {},
   "outputs": [
    {
     "name": "stdout",
     "output_type": "stream",
     "text": [
      "[[  1.   0. 100.]\n",
      " [  0.   1.  50.]]\n"
     ]
    }
   ],
   "source": [
    "translation_matrix = np.array([[1, 0 , tx],[0, 1, ty]])\n",
    "print(translation_matrix)"
   ]
  },
  {
   "cell_type": "code",
   "execution_count": 9,
   "id": "4a3e450a-282d-493e-82ea-0e0e0491dd10",
   "metadata": {},
   "outputs": [],
   "source": [
    "translation_image = cv2.warpAffine(src=img, M=translation_matrix, dsize=(width,height))"
   ]
  },
  {
   "cell_type": "code",
   "execution_count": 12,
   "id": "d141b6c1-579f-41ff-b388-fb8c78d9e93b",
   "metadata": {},
   "outputs": [],
   "source": [
    "cv2.imshow(\"translation_matrix\",translation_image)\n",
    "cv2.waitKey(0)\n",
    "cv2.destroyAllWindows()"
   ]
  },
  {
   "cell_type": "code",
   "execution_count": null,
   "id": "08c5c7a2-9f22-48fb-bd90-420eeb5d43e7",
   "metadata": {},
   "outputs": [],
   "source": []
  }
 ],
 "metadata": {
  "kernelspec": {
   "display_name": "Python 3 (ipykernel)",
   "language": "python",
   "name": "python3"
  },
  "language_info": {
   "codemirror_mode": {
    "name": "ipython",
    "version": 3
   },
   "file_extension": ".py",
   "mimetype": "text/x-python",
   "name": "python",
   "nbconvert_exporter": "python",
   "pygments_lexer": "ipython3",
   "version": "3.9.19"
  }
 },
 "nbformat": 4,
 "nbformat_minor": 5
}
