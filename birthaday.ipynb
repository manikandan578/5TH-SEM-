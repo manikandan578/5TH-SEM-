{
 "cells": [
  {
   "cell_type": "code",
   "execution_count": 1,
   "id": "15b9c401-b79d-4bd4-bd78-bad1fa71e275",
   "metadata": {},
   "outputs": [
    {
     "name": "stdout",
     "output_type": "stream",
     "text": [
      "Requirement already satisfied: pyfiglet in c:\\users\\aedpu\\.conda\\envs\\manikandan\\lib\\site-packages (1.0.2)\n",
      "Note: you may need to restart the kernel to use updated packages.\n"
     ]
    }
   ],
   "source": [
    "pip install pyfiglet"
   ]
  },
  {
   "cell_type": "code",
   "execution_count": 3,
   "id": "5a1cc771-6c50-4c0c-aac4-15a1e9fe1c50",
   "metadata": {},
   "outputs": [
    {
     "name": "stdout",
     "output_type": "stream",
     "text": [
      "    __  __                           ____  _      __  __        __           \n",
      "   / / / /___ _____  ____  __  __   / __ )(_)____/ /_/ /_  ____/ /___ ___  __\n",
      "  / /_/ / __ `/ __ \\/ __ \\/ / / /  / __  / / ___/ __/ __ \\/ __  / __ `/ / / /\n",
      " / __  / /_/ / /_/ / /_/ / /_/ /  / /_/ / / /  / /_/ / / / /_/ / /_/ / /_/ / \n",
      "/_/ /_/\\__,_/ .___/ .___/\\__, /  /_____/_/_/   \\__/_/ /_/\\__,_/\\__,_/\\__, /  \n",
      "           /_/   /_/    /____/                                      /____/   \n",
      "   __                                 \n",
      "  / /_____     ____ ___  _________  __\n",
      " / __/ __ \\   / __ `/ / / / ___/ / / /\n",
      "/ /_/ /_/ /  / /_/ / /_/ / /  / /_/ / \n",
      "\\__/\\____/   \\__, /\\__,_/_/   \\__,_/  \n",
      "            /____/                    \n",
      "\n"
     ]
    }
   ],
   "source": [
    "#Happy Birthday in Python\n",
    "import pyfiglet\n",
    "  \n",
    "wish = pyfiglet.figlet_format(\"Happy Birthday \", font = \"slant\"  )\n",
    "\n",
    "print(wish)"
   ]
  },
  {
   "cell_type": "code",
   "execution_count": null,
   "id": "ce9810ba-b48f-4531-82c2-f093f5c8c474",
   "metadata": {},
   "outputs": [],
   "source": []
  }
 ],
 "metadata": {
  "kernelspec": {
   "display_name": "Python 3 (ipykernel)",
   "language": "python",
   "name": "python3"
  },
  "language_info": {
   "codemirror_mode": {
    "name": "ipython",
    "version": 3
   },
   "file_extension": ".py",
   "mimetype": "text/x-python",
   "name": "python",
   "nbconvert_exporter": "python",
   "pygments_lexer": "ipython3",
   "version": "3.9.19"
  }
 },
 "nbformat": 4,
 "nbformat_minor": 5
}
