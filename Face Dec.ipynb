{
 "cells": [
  {
   "cell_type": "code",
   "execution_count": 1,
   "id": "7224eca4",
   "metadata": {},
   "outputs": [],
   "source": [
    "import cv2\n",
    "import numpy as np"
   ]
  },
  {
   "cell_type": "code",
   "execution_count": 2,
   "id": "a01447f3",
   "metadata": {},
   "outputs": [],
   "source": [
    "F_D = cv2.CascadeClassifier(cv2.data.haarcascades + 'haarcascade_frontalface_default.xml')\n",
    "I_D = cv2.CascadeClassifier(cv2.data.haarcascades + 'haarcascade_eye.xml')"
   ]
  },
  {
   "cell_type": "code",
   "execution_count": 3,
   "id": "80e8046d",
   "metadata": {},
   "outputs": [],
   "source": [
    "img = cv2.imread(\"C:\\\\Users\\\\aedpu\\\\Downloads\\\\hu3.jpg\")\n",
    "cv2.imshow(' mage',img)\n",
    "cv2.waitKey(0)\n",
    "cv2.destroyAllWindows()"
   ]
  },
  {
   "cell_type": "code",
   "execution_count": 4,
   "id": "97eeb13d",
   "metadata": {},
   "outputs": [
    {
     "name": "stdout",
     "output_type": "stream",
     "text": [
      "(512, 512, 3)\n"
     ]
    }
   ],
   "source": [
    "shp=img.shape\n",
    "print(shp)"
   ]
  },
  {
   "cell_type": "code",
   "execution_count": 5,
   "id": "8da41b66",
   "metadata": {},
   "outputs": [
    {
     "data": {
      "text/plain": [
       "array([[[143, 140, 142],\n",
       "        [144, 141, 143],\n",
       "        [145, 142, 144],\n",
       "        ...,\n",
       "        [145, 138, 141],\n",
       "        [149, 142, 145],\n",
       "        [153, 146, 149]],\n",
       "\n",
       "       [[139, 136, 138],\n",
       "        [140, 137, 139],\n",
       "        [142, 139, 141],\n",
       "        ...,\n",
       "        [144, 137, 140],\n",
       "        [148, 141, 144],\n",
       "        [152, 145, 148]],\n",
       "\n",
       "       [[136, 133, 135],\n",
       "        [137, 134, 136],\n",
       "        [139, 136, 138],\n",
       "        ...,\n",
       "        [144, 137, 140],\n",
       "        [146, 139, 142],\n",
       "        [149, 142, 145]],\n",
       "\n",
       "       ...,\n",
       "\n",
       "       [[159, 156, 158],\n",
       "        [159, 156, 158],\n",
       "        [159, 156, 158],\n",
       "        ...,\n",
       "        [156, 157, 161],\n",
       "        [157, 158, 162],\n",
       "        [157, 158, 162]],\n",
       "\n",
       "       [[162, 157, 159],\n",
       "        [162, 157, 159],\n",
       "        [160, 157, 159],\n",
       "        ...,\n",
       "        [156, 157, 161],\n",
       "        [157, 158, 162],\n",
       "        [157, 158, 162]],\n",
       "\n",
       "       [[162, 157, 159],\n",
       "        [162, 157, 159],\n",
       "        [161, 158, 160],\n",
       "        ...,\n",
       "        [158, 159, 163],\n",
       "        [159, 160, 164],\n",
       "        [159, 160, 164]]], dtype=uint8)"
      ]
     },
     "execution_count": 5,
     "metadata": {},
     "output_type": "execute_result"
    }
   ],
   "source": [
    "img"
   ]
  },
  {
   "cell_type": "code",
   "execution_count": 6,
   "id": "e56b6840",
   "metadata": {},
   "outputs": [
    {
     "data": {
      "text/plain": [
       "array([[141, 142, 143, ..., 140, 144, 148],\n",
       "       [137, 138, 140, ..., 139, 143, 147],\n",
       "       [134, 135, 137, ..., 139, 141, 144],\n",
       "       ...,\n",
       "       [157, 157, 157, ..., 158, 159, 159],\n",
       "       [158, 158, 158, ..., 158, 159, 159],\n",
       "       [158, 158, 159, ..., 160, 161, 161]], dtype=uint8)"
      ]
     },
     "execution_count": 6,
     "metadata": {},
     "output_type": "execute_result"
    }
   ],
   "source": [
    "gr=cv2.cvtColor(img,cv2.COLOR_BGR2GRAY)\n",
    "gr"
   ]
  },
  {
   "cell_type": "code",
   "execution_count": 7,
   "id": "515f40e6",
   "metadata": {},
   "outputs": [],
   "source": [
    "cv2.imshow('image',img)\n",
    "cv2.waitKey(0)\n",
    "cv2.destroyAllWindows()"
   ]
  },
  {
   "cell_type": "code",
   "execution_count": 8,
   "id": "45fe3974",
   "metadata": {},
   "outputs": [],
   "source": [
    "fd=F_D.detectMultiScale(gr, scaleFactor =1.1, minNeighbors=3, minSize= (30,10))\n",
    "ed=I_D.detectMultiScale(gr, scaleFactor =1.1, minNeighbors=3, minSize= (30,10))\n",
    "\n",
    "for (x,y,w,h)in fd :\n",
    "    cv2.rectangle(img,(x,y),(x+w,y+h),(0,255,10),2)\n",
    "for (x,y,w,h)in ed :\n",
    "    cv2.rectangle(img,(x,y),(x+w,y+h),(0,255,10),2)\n",
    "cv2.imshow(\"Face\",img)\n",
    "cv2.waitKey(0)\n",
    "cv2.destroyAllWindows()"
   ]
  },
  {
   "cell_type": "code",
   "execution_count": null,
   "id": "708aba95",
   "metadata": {},
   "outputs": [],
   "source": []
  }
 ],
 "metadata": {
  "kernelspec": {
   "display_name": "Python 3 (ipykernel)",
   "language": "python",
   "name": "python3"
  },
  "language_info": {
   "codemirror_mode": {
    "name": "ipython",
    "version": 3
   },
   "file_extension": ".py",
   "mimetype": "text/x-python",
   "name": "python",
   "nbconvert_exporter": "python",
   "pygments_lexer": "ipython3",
   "version": "3.9.17"
  }
 },
 "nbformat": 4,
 "nbformat_minor": 5
}
