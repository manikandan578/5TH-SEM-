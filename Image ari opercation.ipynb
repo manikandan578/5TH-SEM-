{
 "cells": [
  {
   "cell_type": "code",
   "execution_count": 1,
   "id": "26a26340-b180-4fca-b85d-31e2da3e3bfd",
   "metadata": {},
   "outputs": [],
   "source": [
    "import cv2\n",
    "import numpy as np"
   ]
  },
  {
   "cell_type": "markdown",
   "id": "eb175bbf-a01f-4693-8107-4e84c999311c",
   "metadata": {},
   "source": [
    "Reading image"
   ]
  },
  {
   "cell_type": "code",
   "execution_count": 2,
   "id": "f675bc16-38fa-4f2b-9f20-a4fdc95e5bff",
   "metadata": {},
   "outputs": [],
   "source": [
    "img1 = cv2.imread(\"C:\\\\Users\\\\aedpu\\\\OneDrive\\\\Pictures\\\\red.jpg\")\n",
    "img2 = cv2.imread(\"C:\\\\Users\\\\aedpu\\\\OneDrive\\\\Pictures\\\\moon.png\")\n",
    "cv2.imshow(\"IMG1\",img1)\n",
    "cv2.imshow(\"IMG2\",img2)\n",
    "cv2.waitKey(0)\n",
    "cv2.destroyAllWindows()"
   ]
  },
  {
   "cell_type": "code",
   "execution_count": 3,
   "id": "c5967e18-998a-46e5-8793-0ad4d88b2b8e",
   "metadata": {},
   "outputs": [],
   "source": [
    "#Resize"
   ]
  },
  {
   "cell_type": "code",
   "execution_count": 4,
   "id": "6b0c3fdd-36a1-4fd3-a394-7973a2f15bf8",
   "metadata": {},
   "outputs": [
    {
     "data": {
      "text/plain": [
       "(344, 612, 3)"
      ]
     },
     "execution_count": 4,
     "metadata": {},
     "output_type": "execute_result"
    }
   ],
   "source": [
    "img1.shape"
   ]
  },
  {
   "cell_type": "code",
   "execution_count": 5,
   "id": "6124abf0-1ce6-4b2c-a32b-15969bee14f9",
   "metadata": {},
   "outputs": [
    {
     "data": {
      "text/plain": [
       "(236, 213, 3)"
      ]
     },
     "execution_count": 5,
     "metadata": {},
     "output_type": "execute_result"
    }
   ],
   "source": [
    "img2.shape"
   ]
  },
  {
   "cell_type": "code",
   "execution_count": 6,
   "id": "b94d572d-86bb-469a-9e22-db393485e282",
   "metadata": {},
   "outputs": [],
   "source": [
    "img_1 = cv2.resize(img1,(900,700))\n",
    "img_2 = cv2.resize(img2,(900,700))"
   ]
  },
  {
   "cell_type": "code",
   "execution_count": 7,
   "id": "adfaf2c8-a046-435c-98f1-ecf9c891d4f7",
   "metadata": {},
   "outputs": [
    {
     "data": {
      "text/plain": [
       "(700, 900, 3)"
      ]
     },
     "execution_count": 7,
     "metadata": {},
     "output_type": "execute_result"
    }
   ],
   "source": [
    "img_1.shape"
   ]
  },
  {
   "cell_type": "code",
   "execution_count": 8,
   "id": "bdd38c22-b255-4a60-8c02-d7a1d4d15cb5",
   "metadata": {},
   "outputs": [
    {
     "data": {
      "text/plain": [
       "(700, 900, 3)"
      ]
     },
     "execution_count": 8,
     "metadata": {},
     "output_type": "execute_result"
    }
   ],
   "source": [
    "img_2.shape"
   ]
  },
  {
   "cell_type": "code",
   "execution_count": 9,
   "id": "776475c3-2e8b-436e-a61e-42014d00cf80",
   "metadata": {},
   "outputs": [],
   "source": [
    "cv2.imshow(\"IMG_1\",img_1)\n",
    "cv2.imshow(\"IMG_2\",img_2)\n",
    "cv2.waitKey(0)\n",
    "cv2.destroyAllWindows()"
   ]
  },
  {
   "cell_type": "markdown",
   "id": "ddde9d61-189e-40dd-916e-41759db5e2b7",
   "metadata": {},
   "source": [
    "1. Addition"
   ]
  },
  {
   "cell_type": "code",
   "execution_count": 10,
   "id": "cf8eecd5-7706-49d5-b07d-9568e9e2191f",
   "metadata": {},
   "outputs": [],
   "source": [
    "img_add = cv2.add(img_1,img_2)\n",
    "cv2.imshow(\"add_img\",img_add)\n",
    "cv2.waitKey(0)\n",
    "cv2.destroyAllWindows()"
   ]
  },
  {
   "cell_type": "markdown",
   "id": "e0e78192-2079-42e4-b935-572ab8677030",
   "metadata": {},
   "source": [
    "image blending "
   ]
  },
  {
   "cell_type": "code",
   "execution_count": 11,
   "id": "1cc3b75a-e7a6-4e51-a106-84b9f47859e2",
   "metadata": {},
   "outputs": [],
   "source": [
    "imadd = cv2.addWeighted(img_1,1,img_2,0.3,0)\n",
    "cv2.imshow(\"IMG_1\",img_1)\n",
    "cv2.imshow(\"IMG_2\",img_2)\n",
    "cv2.imshow(\"addimg\",imadd)\n",
    "cv2.waitKey(0)\n",
    "cv2.destroyAllWindows()"
   ]
  },
  {
   "cell_type": "markdown",
   "id": "20aa058e-9274-4ae7-9bc3-e2763879bd46",
   "metadata": {},
   "source": [
    "2. Subtraction"
   ]
  },
  {
   "cell_type": "code",
   "execution_count": 12,
   "id": "cafe45a1-324a-4144-8c75-cb40e4249e0f",
   "metadata": {},
   "outputs": [],
   "source": [
    "SUB_img = cv2.subtract(img_1,img_2)\n",
    "cv2.imshow(\"IMG_1\",img_1)\n",
    "cv2.imshow(\"IMG_2\",img_2)\n",
    "cv2.imshow(\"SUB\",SUB_img)\n",
    "cv2.waitKey(0)\n",
    "cv2.destroyAllWindows()"
   ]
  },
  {
   "cell_type": "markdown",
   "id": "786d65a4-c8cd-4977-a757-e714d99e2ea9",
   "metadata": {},
   "source": [
    "3.Multiplication And Division "
   ]
  },
  {
   "cell_type": "code",
   "execution_count": 13,
   "id": "680fa45d-96fa-447d-ac06-8e6546e57873",
   "metadata": {},
   "outputs": [],
   "source": [
    "img_mult = cv2.multiply(img_2,np.array([0.9]))\n",
    "img_divi = cv2.divide(img_2, np.array([7]))\n",
    "cv2.imshow(\"add_img\",img_add)\n",
    "cv2.imshow(\"add_divi\",img_divi)\n",
    "cv2.imshow(\"add_mult\",img_mult)\n",
    "cv2.waitKey(0)\n",
    "cv2.destroyAllWindows()"
   ]
  },
  {
   "cell_type": "markdown",
   "id": "85238ba5-67d4-494a-8704-8968c7b737f6",
   "metadata": {},
   "source": [
    "4 . Bitwise Operation"
   ]
  },
  {
   "cell_type": "code",
   "execution_count": 14,
   "id": "2276dbb4-818d-4ba6-9875-b2594de125ee",
   "metadata": {},
   "outputs": [],
   "source": [
    "img__1 = np.zeros((300,300,3), dtype=np.uint8)\n",
    "img__2 = np.zeros((300,300,3), dtype=np.uint8)\n",
    "cv2.rectangle(img__1, (50,50), (250,250), (255,255,255),-1)\n",
    "cv2.circle(img__2, (150,150), 100, (255,255,255),-1)\n",
    "cv2.imshow(\"IMG__1\",img__1)\n",
    "cv2.imshow(\"IMG__2\",img__2)\n",
    "cv2.waitKey(0)\n",
    "cv2.destroyAllWindows()"
   ]
  },
  {
   "cell_type": "markdown",
   "id": "18c51c72-0a2a-4fc4-936d-1362543eadec",
   "metadata": {},
   "source": [
    "and operaction"
   ]
  },
  {
   "cell_type": "code",
   "execution_count": 15,
   "id": "1b09247d-76ce-4bd2-a23f-e993c2cc3396",
   "metadata": {},
   "outputs": [],
   "source": [
    "bitwise_and = cv2.bitwise_and (img__1,img__2,mask=None)"
   ]
  },
  {
   "cell_type": "markdown",
   "id": "180aa79f-25b7-42dc-92ba-303b6a9b12db",
   "metadata": {},
   "source": [
    "Or ope"
   ]
  },
  {
   "cell_type": "code",
   "execution_count": 16,
   "id": "1125cc58-82af-4a9f-b55f-ff994e41c15a",
   "metadata": {},
   "outputs": [],
   "source": [
    "bitwise_or = cv2.bitwise_or (img__1,img__2,mask=None)"
   ]
  },
  {
   "cell_type": "code",
   "execution_count": 17,
   "id": "c05e48ec-6517-4d7c-a27a-ae7c869fdd92",
   "metadata": {},
   "outputs": [],
   "source": [
    "bitwise_xor = cv2.bitwise_xor (img__1,img__2,mask=None)"
   ]
  },
  {
   "cell_type": "code",
   "execution_count": 18,
   "id": "fd2e6c2a-faf9-41ed-8dfc-1499311e529a",
   "metadata": {},
   "outputs": [],
   "source": [
    "bitwise_not = cv2.bitwise_not (img__1,mask=None)"
   ]
  },
  {
   "cell_type": "code",
   "execution_count": 19,
   "id": "34236521-18bd-44f6-9c9c-1d612a69a5bc",
   "metadata": {},
   "outputs": [],
   "source": [
    "cv2.imshow(\"IMG__1\",img__1)\n",
    "cv2.imshow(\"IMG__2\",img__2)\n",
    "cv2.imshow(\"bitwise_and\",bitwise_and)\n",
    "cv2.imshow(\"bitwise_or\",bitwise_or)\n",
    "cv2.imshow(\"bitwise_xor \",bitwise_xor )\n",
    "cv2.imshow(\"bitwise_not\",bitwise_not)\n",
    "cv2.waitKey(0)\n",
    "cv2.destroyAllWindows()"
   ]
  },
  {
   "cell_type": "code",
   "execution_count": null,
   "id": "ce54abf8-28d9-45ae-8e65-6184eb8997c4",
   "metadata": {},
   "outputs": [],
   "source": []
  }
 ],
 "metadata": {
  "kernelspec": {
   "display_name": "Python 3 (ipykernel)",
   "language": "python",
   "name": "python3"
  },
  "language_info": {
   "codemirror_mode": {
    "name": "ipython",
    "version": 3
   },
   "file_extension": ".py",
   "mimetype": "text/x-python",
   "name": "python",
   "nbconvert_exporter": "python",
   "pygments_lexer": "ipython3",
   "version": "3.9.19"
  }
 },
 "nbformat": 4,
 "nbformat_minor": 5
}
