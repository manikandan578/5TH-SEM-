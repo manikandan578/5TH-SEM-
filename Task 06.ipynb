{
 "cells": [
  {
   "cell_type": "code",
   "execution_count": 1,
   "id": "33bfa7dd-7686-4ec2-8079-c6c460515cad",
   "metadata": {},
   "outputs": [],
   "source": [
    "import cv2\n",
    "import numpy as np\n",
    "import matplotlib.pyplot as plt"
   ]
  },
  {
   "cell_type": "code",
   "execution_count": 2,
   "id": "aa21781e-bacd-4b72-b847-52b1ab31297a",
   "metadata": {},
   "outputs": [],
   "source": [
    "vid = cv2.VideoCapture(\"C:\\\\Users\\\\aedpu\\\\Gurubalan Final year\\\\sample.mp4\")"
   ]
  },
  {
   "cell_type": "code",
   "execution_count": 3,
   "id": "65b834d3-3de0-4a6d-aba5-b30fae3e411b",
   "metadata": {},
   "outputs": [
    {
     "name": "stdout",
     "output_type": "stream",
     "text": [
      "True\n"
     ]
    }
   ],
   "source": [
    "print(vid.isOpened())"
   ]
  },
  {
   "cell_type": "code",
   "execution_count": 4,
   "id": "d83a9a66-b551-48af-acdb-865910d6798b",
   "metadata": {},
   "outputs": [
    {
     "data": {
      "text/plain": [
       "array([[1, 1, 1, 1, 1],\n",
       "       [1, 1, 1, 1, 1],\n",
       "       [1, 1, 1, 1, 1],\n",
       "       [1, 1, 1, 1, 1],\n",
       "       [1, 1, 1, 1, 1]], dtype=uint8)"
      ]
     },
     "execution_count": 4,
     "metadata": {},
     "output_type": "execute_result"
    }
   ],
   "source": [
    "kernel = np.ones((5,5),np.uint8)\n",
    "kernel"
   ]
  },
  {
   "cell_type": "code",
   "execution_count": 5,
   "id": "0988ab7e-a28b-447f-ad3b-1c173ecad3e6",
   "metadata": {},
   "outputs": [],
   "source": [
    "while(vid.isOpened()):\n",
    "    ret, frame = vid.read()\n",
    "    GREY=cv2.cvtColor(frame,cv2.COLOR_BGR2GRAY)\n",
    "    ret,thresh1 = cv2.threshold(GREY, 200,255,cv2.THRESH_BINARY)\n",
    "    erosion = cv2.erode(thresh1 , kernel , iterations = 1)\n",
    "    dilation = cv2.dilate(thresh1 , kernel , iterations = 1)\n",
    "    open = cv2.morphologyEx(thresh1 , cv2.MORPH_OPEN , kernel)\n",
    "    close = cv2.morphologyEx(thresh1 , cv2.MORPH_CLOSE , kernel)\n",
    "    gradient =  cv2.morphologyEx(thresh1 , cv2.MORPH_GRADIENT , kernel)\n",
    "    tophat =  cv2.morphologyEx(thresh1, cv2.MORPH_TOPHAT , kernel)\n",
    "    blackhat =  cv2.morphologyEx(thresh1 , cv2.MORPH_BLACKHAT, kernel)\n",
    "    cv2.imshow('video',frame)\n",
    "    cv2.imshow('Grey' ,GREY)\n",
    "    cv2.imshow(' erosion', erosion)\n",
    "    cv2.imshow('dilation' ,dilation)\n",
    "    cv2.imshow('open',open)\n",
    "    cv2.imshow('close' ,close)\n",
    "    cv2.imshow(' gradient' , gradient)\n",
    "    cv2.imshow('tophat',tophat)\n",
    "    cv2.imshow('blackhat' ,blackhat)\n",
    "    \n",
    "    \n",
    "    \n",
    "    if cv2.waitKey(100) & 0xFF == ord('q'):\n",
    "        break\n",
    "                \n",
    "vid.release() \n",
    "cv2.destroyAllWindows()"
   ]
  }
 ],
 "metadata": {
  "kernelspec": {
   "display_name": "Python 3 (ipykernel)",
   "language": "python",
   "name": "python3"
  },
  "language_info": {
   "codemirror_mode": {
    "name": "ipython",
    "version": 3
   },
   "file_extension": ".py",
   "mimetype": "text/x-python",
   "name": "python",
   "nbconvert_exporter": "python",
   "pygments_lexer": "ipython3",
   "version": "3.9.19"
  }
 },
 "nbformat": 4,
 "nbformat_minor": 5
}
